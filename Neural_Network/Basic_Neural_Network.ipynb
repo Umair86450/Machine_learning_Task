{
 "cells": [
  {
   "cell_type": "markdown",
   "id": "f5ee106e-f6db-4678-97ce-751dcf57ac55",
   "metadata": {},
   "source": [
    "### Step 1: Initialize Inputs"
   ]
  },
  {
   "cell_type": "code",
   "execution_count": 1,
   "id": "1cb57ca6-60b5-4b28-9ed9-d5f1fe12bcb4",
   "metadata": {},
   "outputs": [],
   "source": [
    "x1 = 0.5 \n",
    "x2 = 0.8\n",
    "y_target = 1  # Target output for training\n"
   ]
  },
  {
   "cell_type": "markdown",
   "id": "80894500-7ac2-404c-aae8-d8374424d76b",
   "metadata": {},
   "source": [
    "### Step 2: Initialize Weights"
   ]
  },
  {
   "cell_type": "code",
   "execution_count": 2,
   "id": "638e572d-c22e-404e-8e5c-ee8fb7ba431b",
   "metadata": {},
   "outputs": [],
   "source": [
    "# Weight initialization \n",
    "w1 = 0.2\n",
    "w2 = -0.3\n"
   ]
  },
  {
   "cell_type": "markdown",
   "id": "bec6b061-d49a-41d0-a714-575d04e2c444",
   "metadata": {},
   "source": [
    "### Step 3: Calculate Net Input"
   ]
  },
  {
   "cell_type": "code",
   "execution_count": 3,
   "id": "c82932da-088e-4d76-b425-8f3ea8264b44",
   "metadata": {},
   "outputs": [],
   "source": [
    "# Calculate net input to the neuron\n",
    "net_input = x1 * w1 + x2 * w2 \n"
   ]
  },
  {
   "cell_type": "markdown",
   "id": "d70aefeb-0a85-4f19-81e9-5871d23e0a5c",
   "metadata": {},
   "source": [
    "### Step 4: Define Sigmoid Function"
   ]
  },
  {
   "cell_type": "code",
   "execution_count": 4,
   "id": "6de2bebb-7107-47a5-9c00-f682a3f1d65a",
   "metadata": {},
   "outputs": [],
   "source": [
    "import math\n",
    "\n",
    "def sigmoid(x):\n",
    "     return 1 / (1 + math.exp(-x))  # Sigmoid activation function\n"
   ]
  },
  {
   "cell_type": "markdown",
   "id": "09488875-2a3e-4225-ad70-5ecfc110cac6",
   "metadata": {},
   "source": [
    "### Step 5: Define Sigmoid Derivative"
   ]
  },
  {
   "cell_type": "code",
   "execution_count": 5,
   "id": "efade65b-b798-46c7-b500-8dc00feb4d6b",
   "metadata": {},
   "outputs": [],
   "source": [
    "def sigmoid_derivative(output):\n",
    "    return output * (1 - output)  # Derivative of the sigmoid function\n"
   ]
  },
  {
   "cell_type": "markdown",
   "id": "282e9a5c-5e7a-4485-928d-6c93b436e50b",
   "metadata": {},
   "source": [
    "### Step 6: Forward Propagation"
   ]
  },
  {
   "cell_type": "code",
   "execution_count": 6,
   "id": "19af9222-c178-4459-b693-ed515ab6ef94",
   "metadata": {},
   "outputs": [],
   "source": [
    "# Calculate the output using the sigmoid function\n",
    "output = sigmoid(net_input)\n"
   ]
  },
  {
   "cell_type": "markdown",
   "id": "ecbe4184-6ee4-4364-9fce-5a21230c413e",
   "metadata": {},
   "source": [
    "### Step 7: Calculate Error"
   ]
  },
  {
   "cell_type": "code",
   "execution_count": 7,
   "id": "425a7a16-774a-499b-a6fa-779dd75fde31",
   "metadata": {},
   "outputs": [],
   "source": [
    "# Calculate error terms\n",
    "error_terms_input = 0.5 * (y_target - output) ** 2  # Mean Squared Error\n",
    "error_output_y = output - y_target  # Error of output\n",
    "\n",
    "# Calculate the error term for output\n",
    "error_term_output = error_output_y * sigmoid_derivative(output)\n"
   ]
  },
  {
   "cell_type": "markdown",
   "id": "3773f5a5-0726-4b4a-9644-e98224bbd2dd",
   "metadata": {},
   "source": [
    "### Step 8: Calculate Weight Updates"
   ]
  },
  {
   "cell_type": "code",
   "execution_count": 8,
   "id": "bb7dbe6c-245d-42ea-93fe-43dc85d6c7b2",
   "metadata": {},
   "outputs": [],
   "source": [
    "# Calculate weight updates\n",
    "w1_error = error_term_output * x1\n",
    "w2_error = error_term_output * x2\n"
   ]
  },
  {
   "cell_type": "markdown",
   "id": "0375a3cd-79b3-44a6-996b-b0ec218fe334",
   "metadata": {},
   "source": [
    "### Step 9: Set Learning Rate"
   ]
  },
  {
   "cell_type": "code",
   "execution_count": 9,
   "id": "6608beea-7dec-496c-a2e1-be9b7707ad2b",
   "metadata": {},
   "outputs": [],
   "source": [
    "lr = 0.1  # Learning rate\n"
   ]
  },
  {
   "cell_type": "markdown",
   "id": "9f008e30-b5a1-4b92-9b5f-f947562e49af",
   "metadata": {},
   "source": [
    "### Step 10: Update Weights"
   ]
  },
  {
   "cell_type": "code",
   "execution_count": 10,
   "id": "69062239-f1d8-427d-aca1-0c39ef6cacdd",
   "metadata": {},
   "outputs": [],
   "source": [
    "# Update weights using the learning rate\n",
    "w1_new = w1 - lr * w1_error\n",
    "w2_new = w2 - lr * w2_error\n"
   ]
  },
  {
   "cell_type": "markdown",
   "id": "470110dd-5a2d-4303-be15-0bd05738b702",
   "metadata": {},
   "source": [
    "### Display results"
   ]
  },
  {
   "cell_type": "code",
   "execution_count": 12,
   "id": "6a07279e-6237-46b2-b545-f072968e6f8d",
   "metadata": {},
   "outputs": [
    {
     "name": "stdout",
     "output_type": "stream",
     "text": [
      "Initial Weights:\n",
      "w1: 0.2\n",
      "w2: -0.3\n",
      "\n",
      "Updated Weights after Backpropagation:\n",
      "w1_new: 0.2066541282958158\n",
      "w2_new: -0.2893533947266947\n"
     ]
    }
   ],
   "source": [
    "print(\"Initial Weights:\")\n",
    "print(f\"w1: {w1}\")\n",
    "print(f\"w2: {w2}\")\n",
    "\n",
    "print(\"\\nUpdated Weights after Backpropagation:\")\n",
    "print(f\"w1_new: {w1_new}\")\n",
    "print(f\"w2_new: {w2_new}\")\n",
    "\n"
   ]
  }
 ],
 "metadata": {
  "kernelspec": {
   "display_name": "Python 3 (ipykernel)",
   "language": "python",
   "name": "python3"
  },
  "language_info": {
   "codemirror_mode": {
    "name": "ipython",
    "version": 3
   },
   "file_extension": ".py",
   "mimetype": "text/x-python",
   "name": "python",
   "nbconvert_exporter": "python",
   "pygments_lexer": "ipython3",
   "version": "3.10.15"
  }
 },
 "nbformat": 4,
 "nbformat_minor": 5
}
