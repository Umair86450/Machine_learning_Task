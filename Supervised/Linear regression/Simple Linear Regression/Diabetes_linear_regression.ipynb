{
  "nbformat": 4,
  "nbformat_minor": 0,
  "metadata": {
    "colab": {
      "provenance": []
    },
    "kernelspec": {
      "name": "python3",
      "display_name": "Python 3"
    },
    "language_info": {
      "name": "python"
    }
  },
  "cells": [
    {
      "cell_type": "markdown",
      "source": [
        "## **Library Imports:** *The code begins by importing necessary libraries for data handling, modeling, and visualization.*"
      ],
      "metadata": {
        "id": "vZCgvjG2XEdX"
      }
    },
    {
      "cell_type": "code",
      "execution_count": 1,
      "metadata": {
        "id": "d70M8uVCV3oj"
      },
      "outputs": [],
      "source": [
        "# Importing required libraries\n",
        "import numpy as np  # For numerical operations\n",
        "import pandas as pd  # For data manipulation and analysis\n",
        "import matplotlib.pyplot as plt  # For plotting graphs\n",
        "from sklearn.datasets import load_diabetes  # To load the diabetes dataset\n",
        "from sklearn.linear_model import LinearRegression  # For creating a linear regression model\n",
        "from sklearn.model_selection import train_test_split  # To split the dataset into training and testing sets\n",
        "from sklearn.metrics import mean_squared_error, r2_score  # For evaluating the model's performance\n"
      ]
    },
    {
      "cell_type": "markdown",
      "source": [
        "## **Data Loading:** *It loads the diabetes dataset and separates it into features (X) and target variable (Y). Each feature represents a different health measure.*"
      ],
      "metadata": {
        "id": "4MgMXXi9Xgyq"
      }
    },
    {
      "cell_type": "code",
      "source": [
        "# Loading the sklearn diabetes dataset\n",
        "X, Y = load_diabetes(return_X_y=True)\n",
        "# Here, X contains the independent features (inputs) and Y contains the target variable (output)\n"
      ],
      "metadata": {
        "id": "hzpP7kN1WD9O"
      },
      "execution_count": 2,
      "outputs": []
    },
    {
      "cell_type": "markdown",
      "source": [
        "# **DataFrame Creation:** *A pandas DataFrame is created for easier data manipulation and analysis, including descriptive statistics.*"
      ],
      "metadata": {
        "id": "ih2-x2nTXqOK"
      }
    },
    {
      "cell_type": "code",
      "source": [
        "# Creating a DataFrame for better data analysis\n",
        "df = pd.DataFrame(X, columns=load_diabetes().feature_names)  # Create a DataFrame with feature names\n",
        "df['target'] = Y  # Add the target variable to the DataFrame\n"
      ],
      "metadata": {
        "id": "dd1XlihLWIEn"
      },
      "execution_count": 3,
      "outputs": []
    },
    {
      "cell_type": "markdown",
      "source": [
        "## **Data Exploration:** *Various DataFrame methods (like info(), head(), describe(), etc.) are used to understand the dataset's structure, types, and potential missing values.*"
      ],
      "metadata": {
        "id": "qiCL_T1GakKo"
      }
    },
    {
      "cell_type": "code",
      "source": [
        "# Displaying the shape of the DataFrame\n",
        "print(\"Shape of the DataFrame:\", df.shape)  # Shows the number of rows and columns\n"
      ],
      "metadata": {
        "colab": {
          "base_uri": "https://localhost:8080/",
          "height": 0
        },
        "id": "QARkZ427WMFN",
        "outputId": "4912f973-6261-4f95-dd37-b66a58b243cd"
      },
      "execution_count": 4,
      "outputs": [
        {
          "output_type": "stream",
          "name": "stdout",
          "text": [
            "Shape of the DataFrame: (442, 11)\n"
          ]
        }
      ]
    },
    {
      "cell_type": "code",
      "source": [
        "# Displaying information about the DataFrame\n",
        "df.info()  # Gives a summary of the DataFrame, including data types and non-null counts\n"
      ],
      "metadata": {
        "colab": {
          "base_uri": "https://localhost:8080/",
          "height": 0
        },
        "id": "dT5q0lpqWOtP",
        "outputId": "36ceb451-9dd0-4d74-d5a1-577cc6346982"
      },
      "execution_count": 5,
      "outputs": [
        {
          "output_type": "stream",
          "name": "stdout",
          "text": [
            "<class 'pandas.core.frame.DataFrame'>\n",
            "RangeIndex: 442 entries, 0 to 441\n",
            "Data columns (total 11 columns):\n",
            " #   Column  Non-Null Count  Dtype  \n",
            "---  ------  --------------  -----  \n",
            " 0   age     442 non-null    float64\n",
            " 1   sex     442 non-null    float64\n",
            " 2   bmi     442 non-null    float64\n",
            " 3   bp      442 non-null    float64\n",
            " 4   s1      442 non-null    float64\n",
            " 5   s2      442 non-null    float64\n",
            " 6   s3      442 non-null    float64\n",
            " 7   s4      442 non-null    float64\n",
            " 8   s5      442 non-null    float64\n",
            " 9   s6      442 non-null    float64\n",
            " 10  target  442 non-null    float64\n",
            "dtypes: float64(11)\n",
            "memory usage: 38.1 KB\n"
          ]
        }
      ]
    },
    {
      "cell_type": "code",
      "source": [
        "# Displaying the first few rows of the DataFrame\n",
        "print(\"First 5 rows of the DataFrame:\\n\", df.head())  # Shows the first 5 entries of the DataFrame\n"
      ],
      "metadata": {
        "colab": {
          "base_uri": "https://localhost:8080/",
          "height": 0
        },
        "id": "ShnvLm9DWRdg",
        "outputId": "505231a5-3e63-4339-e3ed-881a608cfb36"
      },
      "execution_count": 6,
      "outputs": [
        {
          "output_type": "stream",
          "name": "stdout",
          "text": [
            "First 5 rows of the DataFrame:\n",
            "         age       sex       bmi        bp        s1        s2        s3  \\\n",
            "0  0.038076  0.050680  0.061696  0.021872 -0.044223 -0.034821 -0.043401   \n",
            "1 -0.001882 -0.044642 -0.051474 -0.026328 -0.008449 -0.019163  0.074412   \n",
            "2  0.085299  0.050680  0.044451 -0.005670 -0.045599 -0.034194 -0.032356   \n",
            "3 -0.089063 -0.044642 -0.011595 -0.036656  0.012191  0.024991 -0.036038   \n",
            "4  0.005383 -0.044642 -0.036385  0.021872  0.003935  0.015596  0.008142   \n",
            "\n",
            "         s4        s5        s6  target  \n",
            "0 -0.002592  0.019907 -0.017646   151.0  \n",
            "1 -0.039493 -0.068332 -0.092204    75.0  \n",
            "2 -0.002592  0.002861 -0.025930   141.0  \n",
            "3  0.034309  0.022688 -0.009362   206.0  \n",
            "4 -0.002592 -0.031988 -0.046641   135.0  \n"
          ]
        }
      ]
    },
    {
      "cell_type": "code",
      "source": [
        "# Describing the statistical properties of the DataFrame\n",
        "print(\"Statistical description of the DataFrame:\\n\", df.describe())  # Provides statistics like mean, std, min, and max\n"
      ],
      "metadata": {
        "colab": {
          "base_uri": "https://localhost:8080/",
          "height": 0
        },
        "id": "mHjhWy5TWVsm",
        "outputId": "a01b0805-b248-427f-ccec-8f9df52d48e7"
      },
      "execution_count": 7,
      "outputs": [
        {
          "output_type": "stream",
          "name": "stdout",
          "text": [
            "Statistical description of the DataFrame:\n",
            "                 age           sex           bmi            bp            s1  \\\n",
            "count  4.420000e+02  4.420000e+02  4.420000e+02  4.420000e+02  4.420000e+02   \n",
            "mean  -2.511817e-19  1.230790e-17 -2.245564e-16 -4.797570e-17 -1.381499e-17   \n",
            "std    4.761905e-02  4.761905e-02  4.761905e-02  4.761905e-02  4.761905e-02   \n",
            "min   -1.072256e-01 -4.464164e-02 -9.027530e-02 -1.123988e-01 -1.267807e-01   \n",
            "25%   -3.729927e-02 -4.464164e-02 -3.422907e-02 -3.665608e-02 -3.424784e-02   \n",
            "50%    5.383060e-03 -4.464164e-02 -7.283766e-03 -5.670422e-03 -4.320866e-03   \n",
            "75%    3.807591e-02  5.068012e-02  3.124802e-02  3.564379e-02  2.835801e-02   \n",
            "max    1.107267e-01  5.068012e-02  1.705552e-01  1.320436e-01  1.539137e-01   \n",
            "\n",
            "                 s2            s3            s4            s5            s6  \\\n",
            "count  4.420000e+02  4.420000e+02  4.420000e+02  4.420000e+02  4.420000e+02   \n",
            "mean   3.918434e-17 -5.777179e-18 -9.042540e-18  9.293722e-17  1.130318e-17   \n",
            "std    4.761905e-02  4.761905e-02  4.761905e-02  4.761905e-02  4.761905e-02   \n",
            "min   -1.156131e-01 -1.023071e-01 -7.639450e-02 -1.260971e-01 -1.377672e-01   \n",
            "25%   -3.035840e-02 -3.511716e-02 -3.949338e-02 -3.324559e-02 -3.317903e-02   \n",
            "50%   -3.819065e-03 -6.584468e-03 -2.592262e-03 -1.947171e-03 -1.077698e-03   \n",
            "75%    2.984439e-02  2.931150e-02  3.430886e-02  3.243232e-02  2.791705e-02   \n",
            "max    1.987880e-01  1.811791e-01  1.852344e-01  1.335973e-01  1.356118e-01   \n",
            "\n",
            "           target  \n",
            "count  442.000000  \n",
            "mean   152.133484  \n",
            "std     77.093005  \n",
            "min     25.000000  \n",
            "25%     87.000000  \n",
            "50%    140.500000  \n",
            "75%    211.500000  \n",
            "max    346.000000  \n"
          ]
        }
      ]
    },
    {
      "cell_type": "code",
      "source": [
        "# Displaying the column names of the DataFrame\n",
        "print(\"Column names:\", df.columns)  # Lists all the column names\n"
      ],
      "metadata": {
        "colab": {
          "base_uri": "https://localhost:8080/",
          "height": 0
        },
        "id": "kO-7h-0eWZMo",
        "outputId": "3783cbab-26e8-4691-dc17-22cd13b5cac2"
      },
      "execution_count": 8,
      "outputs": [
        {
          "output_type": "stream",
          "name": "stdout",
          "text": [
            "Column names: Index(['age', 'sex', 'bmi', 'bp', 's1', 's2', 's3', 's4', 's5', 's6',\n",
            "       'target'],\n",
            "      dtype='object')\n"
          ]
        }
      ]
    },
    {
      "cell_type": "code",
      "source": [
        "# Displaying the data types of each column\n",
        "print(\"Data types of each column:\\n\", df.dtypes)  # Shows the data types of each column\n"
      ],
      "metadata": {
        "colab": {
          "base_uri": "https://localhost:8080/",
          "height": 0
        },
        "id": "D5rMwD2mWciP",
        "outputId": "1737e8d6-a27d-4e67-8546-23e8e57ef226"
      },
      "execution_count": 9,
      "outputs": [
        {
          "output_type": "stream",
          "name": "stdout",
          "text": [
            "Data types of each column:\n",
            " age       float64\n",
            "sex       float64\n",
            "bmi       float64\n",
            "bp        float64\n",
            "s1        float64\n",
            "s2        float64\n",
            "s3        float64\n",
            "s4        float64\n",
            "s5        float64\n",
            "s6        float64\n",
            "target    float64\n",
            "dtype: object\n"
          ]
        }
      ]
    },
    {
      "cell_type": "code",
      "source": [
        "# Checking for missing values in the DataFrame\n",
        "print(\"Missing values in each column:\\n\", df.isnull().sum())  # Counts the number of missing values in each column\n"
      ],
      "metadata": {
        "colab": {
          "base_uri": "https://localhost:8080/",
          "height": 0
        },
        "id": "9MJUaunrWeY5",
        "outputId": "e8f3aa93-97ce-4810-991f-5c25f4280c2d"
      },
      "execution_count": 10,
      "outputs": [
        {
          "output_type": "stream",
          "name": "stdout",
          "text": [
            "Missing values in each column:\n",
            " age       0\n",
            "sex       0\n",
            "bmi       0\n",
            "bp        0\n",
            "s1        0\n",
            "s2        0\n",
            "s3        0\n",
            "s4        0\n",
            "s5        0\n",
            "s6        0\n",
            "target    0\n",
            "dtype: int64\n"
          ]
        }
      ]
    },
    {
      "cell_type": "markdown",
      "source": [
        "## **Feature Selection:** *The code selects a single feature (BMI) for simplicity, which is often the case when starting with linear regression.*"
      ],
      "metadata": {
        "id": "HR0cyhW0YSRz"
      }
    },
    {
      "cell_type": "code",
      "source": [
        "# Taking only one feature to perform simple linear regression\n",
        "X = X[:, 8].reshape(-1, 1)  # Selecting only one feature (the 9th column, BMI) and reshaping it\n"
      ],
      "metadata": {
        "id": "X6c-2LarWiXR"
      },
      "execution_count": 11,
      "outputs": []
    },
    {
      "cell_type": "markdown",
      "source": [
        "## **Train-Test Split:** *The dataset is divided into training and testing subsets. This is important to evaluate how well the model performs on unseen data.*"
      ],
      "metadata": {
        "id": "M8zRERanYcHa"
      }
    },
    {
      "cell_type": "code",
      "source": [
        "# Splitting the dataset into training and testing sets\n",
        "X_train, X_test, Y_train, Y_test = train_test_split(X, Y, test_size=0.3, random_state=10)\n",
        "# 70% of data will be used for training and 30% for testing. random_state ensures reproducibility.\n"
      ],
      "metadata": {
        "id": "XkgArdjPWxBh"
      },
      "execution_count": 12,
      "outputs": []
    },
    {
      "cell_type": "markdown",
      "source": [
        "## **Model Creation and Training:** *A linear regression model is instantiated and trained using the training data.*"
      ],
      "metadata": {
        "id": "M2RLP7dFYr8b"
      }
    },
    {
      "cell_type": "code",
      "source": [
        "# Creating an instance for the linear regression model of sklearn\n",
        "lr = LinearRegression()  # Instantiate the linear regression model"
      ],
      "metadata": {
        "id": "UmnrBZBvWyGs"
      },
      "execution_count": 13,
      "outputs": []
    },
    {
      "cell_type": "code",
      "source": [
        "\n",
        "# Training the model by fitting it to the training data\n",
        "lr.fit(X_train, Y_train)  # Fit the model using the training data\n"
      ],
      "metadata": {
        "colab": {
          "base_uri": "https://localhost:8080/",
          "height": 74
        },
        "id": "H9WYg49bW1u0",
        "outputId": "a54bd588-cd31-443d-e653-136cb99460fc"
      },
      "execution_count": 14,
      "outputs": [
        {
          "output_type": "execute_result",
          "data": {
            "text/plain": [
              "LinearRegression()"
            ],
            "text/html": [
              "<style>#sk-container-id-1 {color: black;}#sk-container-id-1 pre{padding: 0;}#sk-container-id-1 div.sk-toggleable {background-color: white;}#sk-container-id-1 label.sk-toggleable__label {cursor: pointer;display: block;width: 100%;margin-bottom: 0;padding: 0.3em;box-sizing: border-box;text-align: center;}#sk-container-id-1 label.sk-toggleable__label-arrow:before {content: \"▸\";float: left;margin-right: 0.25em;color: #696969;}#sk-container-id-1 label.sk-toggleable__label-arrow:hover:before {color: black;}#sk-container-id-1 div.sk-estimator:hover label.sk-toggleable__label-arrow:before {color: black;}#sk-container-id-1 div.sk-toggleable__content {max-height: 0;max-width: 0;overflow: hidden;text-align: left;background-color: #f0f8ff;}#sk-container-id-1 div.sk-toggleable__content pre {margin: 0.2em;color: black;border-radius: 0.25em;background-color: #f0f8ff;}#sk-container-id-1 input.sk-toggleable__control:checked~div.sk-toggleable__content {max-height: 200px;max-width: 100%;overflow: auto;}#sk-container-id-1 input.sk-toggleable__control:checked~label.sk-toggleable__label-arrow:before {content: \"▾\";}#sk-container-id-1 div.sk-estimator input.sk-toggleable__control:checked~label.sk-toggleable__label {background-color: #d4ebff;}#sk-container-id-1 div.sk-label input.sk-toggleable__control:checked~label.sk-toggleable__label {background-color: #d4ebff;}#sk-container-id-1 input.sk-hidden--visually {border: 0;clip: rect(1px 1px 1px 1px);clip: rect(1px, 1px, 1px, 1px);height: 1px;margin: -1px;overflow: hidden;padding: 0;position: absolute;width: 1px;}#sk-container-id-1 div.sk-estimator {font-family: monospace;background-color: #f0f8ff;border: 1px dotted black;border-radius: 0.25em;box-sizing: border-box;margin-bottom: 0.5em;}#sk-container-id-1 div.sk-estimator:hover {background-color: #d4ebff;}#sk-container-id-1 div.sk-parallel-item::after {content: \"\";width: 100%;border-bottom: 1px solid gray;flex-grow: 1;}#sk-container-id-1 div.sk-label:hover label.sk-toggleable__label {background-color: #d4ebff;}#sk-container-id-1 div.sk-serial::before {content: \"\";position: absolute;border-left: 1px solid gray;box-sizing: border-box;top: 0;bottom: 0;left: 50%;z-index: 0;}#sk-container-id-1 div.sk-serial {display: flex;flex-direction: column;align-items: center;background-color: white;padding-right: 0.2em;padding-left: 0.2em;position: relative;}#sk-container-id-1 div.sk-item {position: relative;z-index: 1;}#sk-container-id-1 div.sk-parallel {display: flex;align-items: stretch;justify-content: center;background-color: white;position: relative;}#sk-container-id-1 div.sk-item::before, #sk-container-id-1 div.sk-parallel-item::before {content: \"\";position: absolute;border-left: 1px solid gray;box-sizing: border-box;top: 0;bottom: 0;left: 50%;z-index: -1;}#sk-container-id-1 div.sk-parallel-item {display: flex;flex-direction: column;z-index: 1;position: relative;background-color: white;}#sk-container-id-1 div.sk-parallel-item:first-child::after {align-self: flex-end;width: 50%;}#sk-container-id-1 div.sk-parallel-item:last-child::after {align-self: flex-start;width: 50%;}#sk-container-id-1 div.sk-parallel-item:only-child::after {width: 0;}#sk-container-id-1 div.sk-dashed-wrapped {border: 1px dashed gray;margin: 0 0.4em 0.5em 0.4em;box-sizing: border-box;padding-bottom: 0.4em;background-color: white;}#sk-container-id-1 div.sk-label label {font-family: monospace;font-weight: bold;display: inline-block;line-height: 1.2em;}#sk-container-id-1 div.sk-label-container {text-align: center;}#sk-container-id-1 div.sk-container {/* jupyter's `normalize.less` sets `[hidden] { display: none; }` but bootstrap.min.css set `[hidden] { display: none !important; }` so we also need the `!important` here to be able to override the default hidden behavior on the sphinx rendered scikit-learn.org. See: https://github.com/scikit-learn/scikit-learn/issues/21755 */display: inline-block !important;position: relative;}#sk-container-id-1 div.sk-text-repr-fallback {display: none;}</style><div id=\"sk-container-id-1\" class=\"sk-top-container\"><div class=\"sk-text-repr-fallback\"><pre>LinearRegression()</pre><b>In a Jupyter environment, please rerun this cell to show the HTML representation or trust the notebook. <br />On GitHub, the HTML representation is unable to render, please try loading this page with nbviewer.org.</b></div><div class=\"sk-container\" hidden><div class=\"sk-item\"><div class=\"sk-estimator sk-toggleable\"><input class=\"sk-toggleable__control sk-hidden--visually\" id=\"sk-estimator-id-1\" type=\"checkbox\" checked><label for=\"sk-estimator-id-1\" class=\"sk-toggleable__label sk-toggleable__label-arrow\">LinearRegression</label><div class=\"sk-toggleable__content\"><pre>LinearRegression()</pre></div></div></div></div></div>"
            ]
          },
          "metadata": {},
          "execution_count": 14
        }
      ]
    },
    {
      "cell_type": "markdown",
      "source": [
        "## **Predictions:** *The trained model is used to predict the target variable for the test data.*"
      ],
      "metadata": {
        "id": "GXFac8wrY1NU"
      }
    },
    {
      "cell_type": "code",
      "source": [
        "# Making predictions using the test dataset\n",
        "Y_pred = lr.predict(X_test)  # Generate predictions for the unseen test data\n"
      ],
      "metadata": {
        "id": "DvtZcVrDW1-s"
      },
      "execution_count": 15,
      "outputs": []
    },
    {
      "cell_type": "code",
      "source": [
        "# Displaying the coefficients of the regression model\n",
        "print(\"\\nValue of the coefficients: \\n\", lr.coef_)  # Shows the slope of the regression line\n"
      ],
      "metadata": {
        "colab": {
          "base_uri": "https://localhost:8080/",
          "height": 0
        },
        "id": "Q0vPUjyYW4Re",
        "outputId": "77533e9f-4137-4c89-ff79-313e7ba32a32"
      },
      "execution_count": 16,
      "outputs": [
        {
          "output_type": "stream",
          "name": "stdout",
          "text": [
            "\n",
            "Value of the coefficients: \n",
            " [875.72295475]\n"
          ]
        }
      ]
    },
    {
      "cell_type": "markdown",
      "source": [
        "## **Model Evaluation:** *The model's performance is assessed using Mean Squared Error (MSE) and R² score, which gives insights into the prediction accuracy and how much variance in the target variable is explained by the model.*"
      ],
      "metadata": {
        "id": "AzOxw7Z7Y91t"
      }
    },
    {
      "cell_type": "code",
      "source": [
        "# Calculating and displaying the mean squared error (MSE)\n",
        "print(f\"Mean square error: {mean_squared_error(Y_test, Y_pred)}\")  # Measures average squared difference between actual and predicted values\n"
      ],
      "metadata": {
        "colab": {
          "base_uri": "https://localhost:8080/",
          "height": 0
        },
        "id": "Q8BfWxxUW6xU",
        "outputId": "27c9dbb1-6b19-45c1-a6e9-e283da8e694d"
      },
      "execution_count": 17,
      "outputs": [
        {
          "output_type": "stream",
          "name": "stdout",
          "text": [
            "Mean square error: 4254.615583911326\n"
          ]
        }
      ]
    },
    {
      "cell_type": "code",
      "source": [
        "# Calculating and displaying the R-squared score (coefficient of determination)\n",
        "print(f\"Coefficient of determination (R²): {r2_score(Y_test, Y_pred)}\")  # Indicates how well the model explains the variance of the data\n"
      ],
      "metadata": {
        "colab": {
          "base_uri": "https://localhost:8080/",
          "height": 0
        },
        "id": "oifdjc-oW8ps",
        "outputId": "d2f6636e-b4a1-4367-e3e1-8b68f2ed9188"
      },
      "execution_count": 18,
      "outputs": [
        {
          "output_type": "stream",
          "name": "stdout",
          "text": [
            "Coefficient of determination (R²): 0.3276174567207636\n"
          ]
        }
      ]
    },
    {
      "cell_type": "markdown",
      "source": [
        "## **Visualization:** *Finally, the actual vs. predicted values are plotted. The scatter plot displays the actual data, while the regression line indicates the model's predictions.*"
      ],
      "metadata": {
        "id": "eNj8UdT8ZDuU"
      }
    },
    {
      "cell_type": "code",
      "source": [
        "# Plotting the output\n",
        "plt.scatter(X_test, Y_test, color=\"black\", label=\"Original Data\")  # Scatter plot of actual values\n",
        "plt.plot(X_test, Y_pred, color=\"blue\", linewidth=3, label=\"Regression Line\")  # Line plot of predicted values\n",
        "plt.xlabel(\"Independent Feature (BMI)\")  # Label for x-axis\n",
        "plt.ylabel(\"Target Values (Diabetes Progression)\")  # Label for y-axis\n",
        "plt.title(\"Simple Linear Regression\")  # Title of the plot\n",
        "plt.legend()  # Show legend to distinguish data and regression line\n",
        "plt.show()  # Display the plot"
      ],
      "metadata": {
        "colab": {
          "base_uri": "https://localhost:8080/",
          "height": 472
        },
        "id": "k6cDBxFNW_tM",
        "outputId": "af9c8568-cb2a-437c-e093-822f54d5be10"
      },
      "execution_count": 19,
      "outputs": [
        {
          "output_type": "display_data",
          "data": {
            "text/plain": [
              "<Figure size 640x480 with 1 Axes>"
            ],
            "image/png": "[encoded data removed]"
          },
          "metadata": {}
        }
      ]
    },
    {
      "cell_type": "code",
      "source": [],
      "metadata": {
        "id": "t3uvJX3mboqV"
      },
      "execution_count": null,
      "outputs": []
    }
  ]
}