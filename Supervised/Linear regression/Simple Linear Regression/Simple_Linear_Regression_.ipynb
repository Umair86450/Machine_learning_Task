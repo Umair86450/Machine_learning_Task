{
  "cells": [
    {
      "cell_type": "code",
      "execution_count": 1,
      "metadata": {
        "id": "K8nC3D1rc41D"
      },
      "outputs": [],
      "source": [
        "# Define the data\n",
        "X = [1, 2, 3, 4]\n",
        "Y = [2, 4, 7, 9]\n"
      ]
    },
    {
      "cell_type": "code",
      "execution_count": 2,
      "metadata": {
        "colab": {
          "base_uri": "https://localhost:8080/"
        },
        "id": "eLLxRQtuc4xl",
        "outputId": "15c0bef2-fd13-49ec-e50b-eab647b1189d"
      },
      "outputs": [
        {
          "data": {
            "text/plain": [
              "(2.5, 5.5)"
            ]
          },
          "execution_count": 2,
          "metadata": {},
          "output_type": "execute_result"
        }
      ],
      "source": [
        "# Calculate mean of X and Y\n",
        "mean_X = (X[0] + X[1] + X[2] + X[3]) / 4\n",
        "mean_Y = (Y[0] + Y[1] + Y[2] + Y[3]) / 4\n",
        "\n",
        "mean_X, mean_Y\n"
      ]
    },
    {
      "cell_type": "code",
      "execution_count": 3,
      "metadata": {
        "colab": {
          "base_uri": "https://localhost:8080/"
        },
        "id": "tTbfV5j5c4uz",
        "outputId": "0696f016-17ce-4def-94ee-2a4fafde2bd2"
      },
      "outputs": [
        {
          "data": {
            "text/plain": [
              "16.75"
            ]
          },
          "execution_count": 3,
          "metadata": {},
          "output_type": "execute_result"
        }
      ],
      "source": [
        "# Sum of products of (X and Y) and mean findout\n",
        "product_XY = (X[0] * Y[0]) + (X[1] * Y[1]) + (X[2] * Y[2]) + (X[3] * Y[3])\n",
        "sum_mean_XY = product_XY / 4\n",
        "sum_mean_XY\n"
      ]
    },
    {
      "cell_type": "code",
      "execution_count": 4,
      "metadata": {
        "colab": {
          "base_uri": "https://localhost:8080/"
        },
        "id": "qw0PwhcEdvjI",
        "outputId": "6686e40c-249c-4eb6-a982-cb69ef2b8872"
      },
      "outputs": [
        {
          "data": {
            "text/plain": [
              "7.5"
            ]
          },
          "execution_count": 4,
          "metadata": {},
          "output_type": "execute_result"
        }
      ],
      "source": [
        "# Sum of squares of X of mean\n",
        "sum_X2 = (X[0] ** 2) + (X[1] ** 2) + (X[2] ** 2) + (X[3] ** 2)\n",
        "sum_X2_mean = sum_X2 / 4\n",
        "sum_X2_mean\n"
      ]
    },
    {
      "cell_type": "code",
      "execution_count": 5,
      "metadata": {
        "colab": {
          "base_uri": "https://localhost:8080/"
        },
        "id": "5RmJc-jjc4sR",
        "outputId": "e9f9de5b-24d9-44e2-edfb-8b4cd7f0b28e"
      },
      "outputs": [
        {
          "data": {
            "text/plain": [
              "2.4"
            ]
          },
          "execution_count": 5,
          "metadata": {},
          "output_type": "execute_result"
        }
      ],
      "source": [
        "# Calculate the slope (m)\n",
        "m = (sum_mean_XY - mean_X *mean_Y) / (sum_X2_mean - (mean_X)**2)\n",
        "m"
      ]
    },
    {
      "cell_type": "code",
      "execution_count": 6,
      "metadata": {
        "colab": {
          "base_uri": "https://localhost:8080/"
        },
        "id": "DJERJH7hc4nY",
        "outputId": "a9609902-e8a6-4941-fe59-dc3def19abea"
      },
      "outputs": [
        {
          "data": {
            "text/plain": [
              "-0.5"
            ]
          },
          "execution_count": 6,
          "metadata": {},
          "output_type": "execute_result"
        }
      ],
      "source": [
        "# Calculate the intercept (c)\n",
        "c = mean_Y - m * mean_X\n",
        "c"
      ]
    },
    {
      "cell_type": "code",
      "execution_count": 7,
      "metadata": {
        "colab": {
          "base_uri": "https://localhost:8080/"
        },
        "id": "AzKgzW3tc4k6",
        "outputId": "a79d6d17-8623-4de0-d3d4-b295d8e1646e"
      },
      "outputs": [
        {
          "name": "stdout",
          "output_type": "stream",
          "text": [
            "Slope (m): 2.4\n",
            "Intercept (c): -0.5\n"
          ]
        }
      ],
      "source": [
        "# Display the results\n",
        "print(f\"Slope (m): {m}\")\n",
        "print(f\"Intercept (c): {c}\")\n"
      ]
    },
    {
      "cell_type": "code",
      "execution_count": 8,
      "metadata": {
        "id": "f6iYpbobc4iB"
      },
      "outputs": [],
      "source": [
        "def predict(x):\n",
        "  return m * x + c\n",
        "\n",
        "mymodel = list(map(predict, X))"
      ]
    },
    {
      "cell_type": "code",
      "execution_count": 18,
      "metadata": {
        "id": "9siwwyBMc4fo"
      },
      "outputs": [],
      "source": [
        "# # Test the regression equation with a few values\n",
        "test_X = [1, 2, 3, 4]\n",
        "# predictions = [predict(x) for x in test_X]\n"
      ]
    },
    {
      "cell_type": "code",
      "execution_count": 19,
      "metadata": {
        "id": "WKuBu10k92aN"
      },
      "outputs": [],
      "source": [
        "# Initialize an empty list to store predictions\n",
        "predictions = []\n",
        "\n",
        "# Iterate over each input value in test_X\n",
        "for x in test_X:\n",
        "    # Get the predicted value for the current input\n",
        "    y_pred = predict(x)\n",
        "    # Append the predicted value to the predictions list\n",
        "    predictions.append(y_pred)"
      ]
    },
    {
      "cell_type": "code",
      "execution_count": 20,
      "metadata": {
        "colab": {
          "base_uri": "https://localhost:8080/"
        },
        "id": "ns0i33zpc4cW",
        "outputId": "e60178a2-18b2-464a-e6f6-f6964beeaa97"
      },
      "outputs": [
        {
          "name": "stdout",
          "output_type": "stream",
          "text": [
            "\n",
            "Predictions:\n",
            "X = 1, Predicted Y = 1.9\n",
            "X = 2, Predicted Y = 4.3\n",
            "X = 3, Predicted Y = 6.699999999999999\n",
            "X = 4, Predicted Y = 9.1\n"
          ]
        }
      ],
      "source": [
        "print(\"\\nPredictions:\")\n",
        "for x, y_pred in zip(test_X, predictions):\n",
        "    print(f\"X = {x}, Predicted Y = {y_pred}\")"
      ]
    },
    {
      "cell_type": "code",
      "execution_count": 21,
      "metadata": {
        "id": "KTxCFHXTc4W4"
      },
      "outputs": [],
      "source": [
        "import matplotlib.pyplot as plt"
      ]
    },
    {
      "cell_type": "code",
      "execution_count": 22,
      "metadata": {
        "colab": {
          "base_uri": "https://localhost:8080/",
          "height": 430
        },
        "id": "jC487fvpc4UP",
        "outputId": "d7c9db15-0dc8-48b2-ca4a-12e8cc592636"
      },
      "outputs": [
        {
          "data": {
            "image/png": "[encoded data removed]",
            "text/plain": [
              "<Figure size 640x480 with 1 Axes>"
            ]
          },
          "metadata": {},
          "output_type": "display_data"
        }
      ],
      "source": [
        "plt.scatter(test_X, predictions)\n",
        "plt.plot(X, mymodel)\n",
        "plt.show()"
      ]
    },
    {
      "cell_type": "markdown",
      "metadata": {
        "id": "oyerVOsY-Rii"
      },
      "source": [
        "# **Linear Regression to solve indexing**"
      ]
    },
    {
      "cell_type": "code",
      "execution_count": 23,
      "metadata": {
        "id": "9P5i0_HGc4RO"
      },
      "outputs": [],
      "source": [
        "# Data\n",
        "X = [1, 2, 4, 7]\n",
        "Y = [10, 12, 14, 17]\n",
        "\n"
      ]
    },
    {
      "cell_type": "code",
      "execution_count": 24,
      "metadata": {
        "colab": {
          "base_uri": "https://localhost:8080/"
        },
        "id": "bBY7y7jS96oz",
        "outputId": "3165751a-7501-479b-dc10-63c1cf05bcf0"
      },
      "outputs": [
        {
          "data": {
            "text/plain": [
              "4"
            ]
          },
          "execution_count": 24,
          "metadata": {},
          "output_type": "execute_result"
        }
      ],
      "source": [
        "# Total Values\n",
        "n = len(X)\n",
        "n\n"
      ]
    },
    {
      "cell_type": "code",
      "execution_count": 25,
      "metadata": {
        "id": "o06kkrVo99gm"
      },
      "outputs": [],
      "source": [
        "# Sum of x,y,,xy and X^2\n",
        "sum_x = X[0] + X[1] + X[2] + X[3]\n",
        "sum_y = Y[0] + Y[1] + Y[2] + Y[3]\n",
        "sum_xy = (X[0] * Y[0]) + (X[1] * Y[1]) + (X[2] * Y[2]) + (X[3] * Y[3])\n",
        "sum_x_squared = (X[0]**2) + (X[1]**2) + (X[2]**2) + (X[3]**2)\n",
        "\n"
      ]
    },
    {
      "cell_type": "code",
      "execution_count": 26,
      "metadata": {
        "colab": {
          "base_uri": "https://localhost:8080/"
        },
        "id": "yS4Ewgbnk_sw",
        "outputId": "fe54e8f9-cc81-4f76-ed25-e72d2689001a"
      },
      "outputs": [
        {
          "name": "stdout",
          "output_type": "stream",
          "text": [
            "14\n",
            "53\n",
            "209\n",
            "70\n",
            "196\n"
          ]
        }
      ],
      "source": [
        "print(sum_x)\n",
        "print(sum_y)\n",
        "print(sum_xy)\n",
        "print(sum_x_squared)\n",
        "print(sum_x**2)"
      ]
    },
    {
      "cell_type": "code",
      "execution_count": 27,
      "metadata": {
        "id": "dVczDv-h9-Zn"
      },
      "outputs": [],
      "source": [
        "# Slope\n",
        "m = (n * sum_xy - sum_x * sum_y)  / (n * sum_x_squared - sum_x**2)\n"
      ]
    },
    {
      "cell_type": "code",
      "execution_count": 28,
      "metadata": {
        "colab": {
          "base_uri": "https://localhost:8080/"
        },
        "id": "V4lzVf3ilbok",
        "outputId": "f9608e71-0c2d-4803-e061-5257f1a93caa"
      },
      "outputs": [
        {
          "data": {
            "text/plain": [
              "1.119047619047619"
            ]
          },
          "execution_count": 28,
          "metadata": {},
          "output_type": "execute_result"
        }
      ],
      "source": [
        "m"
      ]
    },
    {
      "cell_type": "code",
      "execution_count": 29,
      "metadata": {
        "id": "8_FNCYeF-D6Z"
      },
      "outputs": [],
      "source": [
        "#Y-Intercept\n",
        "c = (sum_y - m * sum_x) / n\n"
      ]
    },
    {
      "cell_type": "code",
      "execution_count": 30,
      "metadata": {
        "id": "2W74R2cD-GBo"
      },
      "outputs": [],
      "source": [
        "# Prediction using the line equation: y = mx + c\n",
        "def predict(x):\n",
        "    return m * x + c\n"
      ]
    },
    {
      "cell_type": "code",
      "execution_count": 31,
      "metadata": {
        "id": "q3pX43tR-HVI"
      },
      "outputs": [],
      "source": [
        "# Test the predictions\n",
        "predicted_Y = [predict(x) for x in X]\n"
      ]
    },
    {
      "cell_type": "code",
      "execution_count": 32,
      "metadata": {
        "colab": {
          "base_uri": "https://localhost:8080/"
        },
        "id": "pisV83bc-JDV",
        "outputId": "67996380-6420-45de-cfbd-97f64961a874"
      },
      "outputs": [
        {
          "name": "stdout",
          "output_type": "stream",
          "text": [
            "Slope (m): 1.119047619047619\n",
            "Intercept (c): 9.333333333333332\n",
            "Predicted Y values: [10.45238095238095, 11.57142857142857, 13.809523809523808, 17.166666666666664]\n"
          ]
        }
      ],
      "source": [
        "# Print the slope, intercept, and predictions\n",
        "print(\"Slope (m):\", m)\n",
        "print(\"Intercept (c):\", c)\n",
        "print(\"Predicted Y values:\", predicted_Y)\n"
      ]
    },
    {
      "cell_type": "code",
      "execution_count": 33,
      "metadata": {
        "colab": {
          "base_uri": "https://localhost:8080/",
          "height": 472
        },
        "id": "PZAcDF5P-Ksa",
        "outputId": "fba2a216-ac0e-446b-abc5-f101fe8c6c78"
      },
      "outputs": [
        {
          "data": {
            "image/png": "[encoded data removed]",
            "text/plain": [
              "<Figure size 640x480 with 1 Axes>"
            ]
          },
          "metadata": {},
          "output_type": "display_data"
        }
      ],
      "source": [
        "#Plot Data points and Regression Line\n",
        "plt.scatter(X, Y, color='black', label='Data Points')  # Plot the original data points\n",
        "plt.plot(X, predicted_Y, color='red', label='Regression Line')  # Plot the regression line\n",
        "\n",
        "# Add labels and title\n",
        "plt.xlabel('X')\n",
        "plt.ylabel('Y')\n",
        "plt.title('Linear Regression')\n",
        "plt.legend()\n",
        "# Display the graph\n",
        "plt.show()\n"
      ]
    },
    {
      "cell_type": "markdown",
      "metadata": {
        "id": "FDzvAqQ1u6MN"
      },
      "source": [
        "# **Linear Regression to solve for loop**"
      ]
    },
    {
      "cell_type": "code",
      "execution_count": 34,
      "metadata": {
        "id": "a6GUZYXFu5ji"
      },
      "outputs": [],
      "source": [
        "import matplotlib.pyplot as plt"
      ]
    },
    {
      "cell_type": "code",
      "execution_count": 35,
      "metadata": {
        "id": "JePjtF6Wu5gp"
      },
      "outputs": [],
      "source": [
        "# Example Data\n",
        "X = [2,6,10,15,21]\n",
        "Y = [3,7,13,21,26]"
      ]
    },
    {
      "cell_type": "code",
      "execution_count": 36,
      "metadata": {
        "id": "vGogt244u5dw"
      },
      "outputs": [],
      "source": [
        "# Initialization sums\n",
        "sum_xy = 0\n",
        "sum_x = 0\n",
        "sum_y = 0\n",
        "sum_X2 = 0"
      ]
    },
    {
      "cell_type": "code",
      "execution_count": 37,
      "metadata": {
        "colab": {
          "base_uri": "https://localhost:8080/"
        },
        "id": "--zCQXo9u5av",
        "outputId": "9ce3cd17-f951-4db7-a766-1ac27ff9ac75"
      },
      "outputs": [
        {
          "name": "stdout",
          "output_type": "stream",
          "text": [
            "Sum_xy:1039\n"
          ]
        }
      ],
      "source": [
        "# calculate sum_xy using a for loop\n",
        "for i in range(len(X)):\n",
        "  sum_xy = sum_xy + (X[i] * Y[i])\n",
        "print(f\"Sum_xy:{sum_xy}\")"
      ]
    },
    {
      "cell_type": "code",
      "execution_count": 38,
      "metadata": {
        "colab": {
          "base_uri": "https://localhost:8080/"
        },
        "id": "8q2jPWTru5Xq",
        "outputId": "177a0ec1-e205-4026-886c-4d0e76ec79be"
      },
      "outputs": [
        {
          "name": "stdout",
          "output_type": "stream",
          "text": [
            "Sum_x:54\n"
          ]
        }
      ],
      "source": [
        "# calculate sum_x using a for loop\n",
        "for i in X:\n",
        "  sum_x = sum_x + i\n",
        "print(f\"Sum_x:{sum_x}\")"
      ]
    },
    {
      "cell_type": "code",
      "execution_count": 39,
      "metadata": {
        "colab": {
          "base_uri": "https://localhost:8080/"
        },
        "id": "xIZBBIyWu5Ug",
        "outputId": "fa6c7e1f-3948-4db7-a5c1-0e3aa2e80018"
      },
      "outputs": [
        {
          "name": "stdout",
          "output_type": "stream",
          "text": [
            "Sum_Y:70\n"
          ]
        }
      ],
      "source": [
        "# calculate sum_x using a for loop\n",
        "for i in Y:\n",
        "  sum_y = sum_y + i\n",
        "print(f\"Sum_Y:{sum_y}\")"
      ]
    },
    {
      "cell_type": "code",
      "execution_count": 40,
      "metadata": {
        "colab": {
          "base_uri": "https://localhost:8080/"
        },
        "id": "z-qZYPDYu5Rn",
        "outputId": "ec180dad-6ab9-4d00-a5cf-0d3672426da3"
      },
      "outputs": [
        {
          "name": "stdout",
          "output_type": "stream",
          "text": [
            "Sum_X2:806\n"
          ]
        }
      ],
      "source": [
        "# Calculate sum_x2 using  a for loop\n",
        "for i in X:\n",
        "  sum_X2 = sum_X2 + (i**2)\n",
        "print(f\"Sum_X2:{sum_X2}\")"
      ]
    },
    {
      "cell_type": "code",
      "execution_count": 41,
      "metadata": {
        "id": "Sl1K6_QXu5Nd"
      },
      "outputs": [],
      "source": [
        "# Calculate the number of data points\n",
        "n = len(X)"
      ]
    },
    {
      "cell_type": "code",
      "execution_count": 42,
      "metadata": {
        "id": "oHn_4E9Wwv1a"
      },
      "outputs": [],
      "source": [
        "# Calculate Means\n",
        "mean_X = sum_x / n\n",
        "mean_Y = sum_y / n\n",
        "mean_XY = sum_xy / n\n",
        "x2_mean = sum_X2 / n"
      ]
    },
    {
      "cell_type": "code",
      "execution_count": 43,
      "metadata": {
        "colab": {
          "base_uri": "https://localhost:8080/"
        },
        "id": "wuvzA_IIwvud",
        "outputId": "1278534e-0113-43fe-94d9-72c56b9c8c66"
      },
      "outputs": [
        {
          "name": "stdout",
          "output_type": "stream",
          "text": [
            "Slope (m): 1.2701974865350096\n"
          ]
        }
      ],
      "source": [
        "# Calculate the slope (m)\n",
        "m = (mean_XY - mean_X *mean_Y) / (x2_mean - (mean_X)**2)\n",
        "print(f\"Slope (m): {m}\")"
      ]
    },
    {
      "cell_type": "code",
      "execution_count": 44,
      "metadata": {
        "colab": {
          "base_uri": "https://localhost:8080/"
        },
        "id": "BM0KQV_gwvr1",
        "outputId": "05abfecb-9187-40f2-8841-db5a18fe4ed2"
      },
      "outputs": [
        {
          "name": "stdout",
          "output_type": "stream",
          "text": [
            "Intercept (c): 0.28186714542189506\n"
          ]
        }
      ],
      "source": [
        "# Calculate the intercept (c)\n",
        "c = mean_Y - m * mean_X\n",
        "print(f\"Intercept (c): {c}\")"
      ]
    },
    {
      "cell_type": "code",
      "execution_count": 45,
      "metadata": {
        "id": "QN6wAS-9wvop"
      },
      "outputs": [],
      "source": [
        "# Define the prediction function\n",
        "def predict(x):\n",
        "    return m * x + c"
      ]
    },
    {
      "cell_type": "code",
      "execution_count": 59,
      "metadata": {
        "id": "7uf6SE81wvln"
      },
      "outputs": [],
      "source": [
        "# Generate predictioins for the original data\n",
        "my_model = list(map(predict, X))"
      ]
    },
    {
      "cell_type": "code",
      "execution_count": 60,
      "metadata": {
        "id": "BdZwFjXYwviT"
      },
      "outputs": [],
      "source": [
        "# Test  the regression equation with a few values\n",
        "test_X = [5,9,13,16, 20]"
      ]
    },
    {
      "cell_type": "code",
      "execution_count": 61,
      "metadata": {
        "id": "VcnHNtnEwvd1"
      },
      "outputs": [],
      "source": [
        "# Initializatio an empty list ro store predictions\n",
        "predictions =[]"
      ]
    },
    {
      "cell_type": "code",
      "execution_count": 62,
      "metadata": {
        "id": "4CXLc5Hlwvao"
      },
      "outputs": [],
      "source": [
        "# Iterate over each input value in test_x\n",
        "for x in test_X:\n",
        "  # Get the predicted value for the current input\n",
        "  y_pred = predict(x)\n",
        "  # Append the predicted value to the predictions list\n",
        "  predictions.append(y_pred)"
      ]
    },
    {
      "cell_type": "code",
      "execution_count": 63,
      "metadata": {
        "colab": {
          "base_uri": "https://localhost:8080/"
        },
        "id": "pdl2qsNIwvSa",
        "outputId": "a52fe44c-af15-4e61-e902-8b5586b128c2"
      },
      "outputs": [
        {
          "name": "stdout",
          "output_type": "stream",
          "text": [
            "\n",
            "Predictions:\n",
            "X = 5, Predicted Y = 6.632854578096943\n",
            "X = 9, Predicted Y = 11.713644524236981\n",
            "X = 13, Predicted Y = 16.79443447037702\n",
            "X = 16, Predicted Y = 20.60502692998205\n",
            "X = 20, Predicted Y = 25.685816876122086\n"
          ]
        }
      ],
      "source": [
        "print(\"\\nPredictions:\")\n",
        "for x, y_pred in zip(test_X, predictions):\n",
        "    print(f\"X = {x}, Predicted Y = {y_pred}\")"
      ]
    },
    {
      "cell_type": "code",
      "execution_count": 65,
      "metadata": {
        "colab": {
          "base_uri": "https://localhost:8080/",
          "height": 447
        },
        "id": "ButuqA5uwvPF",
        "outputId": "1c62692d-eb62-4261-d9d0-37cafd91465e"
      },
      "outputs": [
        {
          "data": {
            "text/plain": [
              "<matplotlib.collections.PathCollection at 0x14d63a033b0>"
            ]
          },
          "execution_count": 65,
          "metadata": {},
          "output_type": "execute_result"
        },
        {
          "data": {
            "image/png": "[encoded data removed]",
            "text/plain": [
              "<Figure size 640x480 with 1 Axes>"
            ]
          },
          "metadata": {},
          "output_type": "display_data"
        }
      ],
      "source": [
        "# Plot the regression line\n",
        "plt.scatter(X,Y, color='blue', label='Original Data')"
      ]
    },
    {
      "cell_type": "code",
      "execution_count": 33,
      "metadata": {
        "id": "QfzjVaqsyMMz"
      },
      "outputs": [],
      "source": []
    },
    {
      "cell_type": "code",
      "execution_count": 66,
      "metadata": {
        "colab": {
          "base_uri": "https://localhost:8080/",
          "height": 472
        },
        "id": "m3umpdpZyMJ6",
        "outputId": "a28e229f-fb0a-4930-b331-0347fcac8212"
      },
      "outputs": [
        {
          "data": {
            "image/png": "[encoded data removed]",
            "text/plain": [
              "<Figure size 640x480 with 1 Axes>"
            ]
          },
          "metadata": {},
          "output_type": "display_data"
        }
      ],
      "source": [
        "# Plot regression line\n",
        "x_values = [min(X), max(X)]\n",
        "y_values = [predict(x) for x in x_values]\n",
        "plt.plot(x_values, y_values, color='red', label='Regression Line')\n",
        "\n",
        "\n",
        "# Plot predictions for test_x\n",
        "plt.scatter(test_X, predictions, color='green', label='Predictions')\n",
        "\n",
        "# Add labels and legend\n",
        "plt.xlabel('X')\n",
        "plt.ylabel('Y')\n",
        "plt.title('Linear Regression')\n",
        "plt.legend()\n",
        "# Display the graph\n",
        "plt.show()"
      ]
    },
    {
      "cell_type": "code",
      "execution_count": null,
      "metadata": {
        "id": "2z5sR_i7yMGc"
      },
      "outputs": [],
      "source": []
    },
    {
      "cell_type": "markdown",
      "metadata": {
        "id": "6amVdhjDSnqf"
      },
      "source": [
        "# **scipy**"
      ]
    },
    {
      "cell_type": "code",
      "execution_count": 72,
      "metadata": {
        "colab": {
          "base_uri": "https://localhost:8080/"
        },
        "id": "Ud66uA_DHkWf",
        "outputId": "9058b7ed-2ccd-49e3-e466-1cca1ab1cff1"
      },
      "outputs": [
        {
          "name": "stdout",
          "output_type": "stream",
          "text": [
            "slope:1.119047619047619 \n",
            "intercept:9.333333333333332\n",
            "r:0.9915082261523678\n",
            "p:0.008491773847632222\n",
            "std_err:0.1037833081795399\n",
            "speed:11.57142857142857\n"
          ]
        }
      ],
      "source": [
        "from scipy import stats\n",
        "\n",
        "a = [1, 2, 4, 7]\n",
        "b = [10, 12, 14, 17]\n",
        "\n",
        "slope, intercept, r, p, std_err = stats.linregress(a,b)\n",
        "\n",
        "def myfunc(x):\n",
        "  return slope * x + intercept\n",
        "\n",
        "speed = myfunc(2)\n",
        "print(f\"slope:{slope} \")\n",
        "print(f\"intercept:{intercept}\")\n",
        "print(f\"r:{r}\")\n",
        "print(f\"p:{p}\")\n",
        "print(f\"std_err:{std_err}\")\n",
        "print(f\"speed:{speed}\")"
      ]
    },
    {
      "cell_type": "code",
      "execution_count": 74,
      "metadata": {},
      "outputs": [
        {
          "data": {
            "image/png": "[encoded data removed]",
            "text/plain": [
              "<Figure size 640x480 with 1 Axes>"
            ]
          },
          "metadata": {},
          "output_type": "display_data"
        }
      ],
      "source": [
        "# Plot the original data points\n",
        "plt.scatter(a, b, color='blue', label='Original Data')\n",
        "\n",
        "# Plot the regression line\n",
        "x_values = [min(a), max(a)]\n",
        "y_values = [myfunc(x) for x in x_values]\n",
        "plt.plot(x_values, y_values, color='red', label='Regression Line')\n",
        "\n",
        "# Add labels and legend\n",
        "plt.xlabel('X')\n",
        "plt.ylabel('Y')\n",
        "plt.title('Linear Regression using scipy.stats.linregress')\n",
        "plt.legend()\n",
        "\n",
        "# Display the graph\n",
        "plt.show()"
      ]
    },
    {
      "cell_type": "markdown",
      "metadata": {
        "id": "BlWnrRMdzTWm"
      },
      "source": [
        "# **Sklearn**"
      ]
    },
    {
      "cell_type": "code",
      "execution_count": 77,
      "metadata": {},
      "outputs": [
        {
          "name": "stdout",
          "output_type": "stream",
          "text": [
            "slope:1.119047619047619 \n",
            "intercept:9.333333333333332\n",
            "r2:0.9830885625278148\n",
            "speed:11.57142857142857\n"
          ]
        }
      ],
      "source": [
        "import numpy as np\n",
        "from sklearn.linear_model import LinearRegression\n",
        "\n",
        "import matplotlib.pyplot as plt\n",
        "\n",
        "# Data\n",
        "x = np.array([1, 2, 4, 7]).reshape(-1, 1)  # Reshape for sklearn which expects 2D array for features\n",
        "y = np.array([10, 12, 14, 17])\n",
        "\n",
        "# Create and fit the model\n",
        "model = LinearRegression().fit(x, y)\n",
        "\n",
        "# Extract slope and intercept\n",
        "slope = model.coef_[0]\n",
        "intercept = model.intercept_\n",
        "\n",
        "# Calculate R^2 (coefficient of determination)\n",
        "r2 = model.score(x, y)\n",
        "\n",
        "# Predict using the model\n",
        "def myfunc(x):\n",
        "    return model.predict(np.array([[x]]))[0]\n",
        "\n",
        "speed = myfunc(2)\n",
        "\n",
        "# Print the results\n",
        "print(f\"slope:{slope} \")\n",
        "print(f\"intercept:{intercept}\")\n",
        "print(f\"r2:{r2}\")  # Note: sklearn provides R^2 instead of correlation coefficient\n",
        "print(f\"speed:{speed}\")\n"
      ]
    },
    {
      "cell_type": "code",
      "execution_count": 78,
      "metadata": {},
      "outputs": [
        {
          "data": {
            "image/png": "[encoded data removed]",
            "text/plain": [
              "<Figure size 640x480 with 1 Axes>"
            ]
          },
          "metadata": {},
          "output_type": "display_data"
        }
      ],
      "source": [
        "\n",
        "# Plot the original data points\n",
        "plt.scatter(x, y, color='blue', label='Original Data')\n",
        "\n",
        "# Plot the regression line\n",
        "x_values = np.linspace(min(x), max(x), 100).reshape(-1, 1)\n",
        "y_values = model.predict(x_values)\n",
        "plt.plot(x_values, y_values, color='red', label='Regression Line')\n",
        "\n",
        "# Add labels and legend\n",
        "plt.xlabel('X')\n",
        "plt.ylabel('Y')\n",
        "plt.title('Linear Regression using sklearn')\n",
        "plt.legend()\n",
        "\n",
        "# Display the graph\n",
        "plt.show()"
      ]
    },
    {
      "cell_type": "code",
      "execution_count": null,
      "metadata": {
        "id": "BO3E19QnHkQ_"
      },
      "outputs": [],
      "source": []
    },
    {
      "cell_type": "code",
      "execution_count": null,
      "metadata": {
        "id": "V8bk-QOvHkOX"
      },
      "outputs": [],
      "source": []
    },
    {
      "cell_type": "code",
      "execution_count": null,
      "metadata": {
        "id": "Q8TSJAltHkLk"
      },
      "outputs": [],
      "source": []
    }
  ],
  "metadata": {
    "colab": {
      "provenance": []
    },
    "kernelspec": {
      "display_name": "Python 3",
      "name": "python3"
    },
    "language_info": {
      "codemirror_mode": {
        "name": "ipython",
        "version": 3
      },
      "file_extension": ".py",
      "mimetype": "text/x-python",
      "name": "python",
      "nbconvert_exporter": "python",
      "pygments_lexer": "ipython3",
      "version": "3.12.5"
    }
  },
  "nbformat": 4,
  "nbformat_minor": 0
}
