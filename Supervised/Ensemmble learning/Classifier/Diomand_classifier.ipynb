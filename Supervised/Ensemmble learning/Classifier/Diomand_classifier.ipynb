{
  "cells": [
    {
      "cell_type": "markdown",
      "metadata": {
        "id": "--7PoPRC6lst"
      },
      "source": [
        "# Comparison of Individual, Bagging and Boosting Algorithms"
      ]
    },
    {
      "cell_type": "markdown",
      "metadata": {},
      "source": [
        "# Diamond Dataset Features\n",
        "\n",
        "In this section, we outline the features of the diamond dataset used for analysis.\n",
        "\n",
        "## Selected Features\n",
        "\n",
        "The features included in the dataset are:\n",
        "\n",
        "- **carat**: Weight of the diamond (measured in carats)\n",
        "- **cut**: Quality of the cut (e.g., Fair, Good, Very Good, Ideal, Premium) *(Target Variable)*\n",
        "- **color**: Diamond color, from J (worst) to D (best)\n",
        "- **clarity**: A measurement of how clear the diamond is (e.g., IF, VVS1, VVS2, VS1, VS2, SI1, SI2, I1)\n",
        "- **depth**: Total depth percentage, calculated as \\( \\frac{z}{\\text{mean}(x, y)} \\)\n",
        "- **table**: Width of the top of the diamond relative to the widest point\n",
        "- **price**: Price of the diamond (in US dollars)\n",
        "- **x**: Length of the diamond (in mm)\n",
        "- **y**: Width of the diamond (in mm)\n",
        "- **z**: Depth of the diamond (in mm)\n",
        "\n",
        "## Target Variable\n",
        "\n",
        "The target variable for prediction is:\n",
        "- **cut**: This is the target variable we aim to predict using the selected features.\n"
      ]
    },
    {
      "cell_type": "code",
      "execution_count": 1,
      "metadata": {
        "id": "QvnP4fei6lsv"
      },
      "outputs": [],
      "source": [
        "# !pip install xgboost -q"
      ]
    },
    {
      "cell_type": "code",
      "execution_count": 2,
      "metadata": {
        "id": "v1Z8Dp2X6lsw"
      },
      "outputs": [],
      "source": [
        "# import libraries\n",
        "import pandas as pd\n",
        "import numpy as np\n",
        "import matplotlib.pyplot as plt\n",
        "import seaborn as sns\n",
        "from sklearn.model_selection import train_test_split\n",
        "from sklearn.metrics import accuracy_score, precision_score, recall_score, f1_score\n",
        "from sklearn.preprocessing import LabelEncoder\n",
        "from sklearn.tree import DecisionTreeClassifier\n",
        "from sklearn.ensemble import RandomForestClassifier\n",
        "from xgboost import XGBClassifier"
      ]
    },
    {
      "cell_type": "code",
      "execution_count": 3,
      "metadata": {
        "id": "53eXejUv6lsw"
      },
      "outputs": [],
      "source": [
        "# import the data\n",
        "df = sns.load_dataset('diamonds')"
      ]
    },
    {
      "cell_type": "code",
      "execution_count": 4,
      "metadata": {
        "colab": {
          "base_uri": "https://localhost:8080/",
          "height": 206
        },
        "id": "Ymv-J20s6lsw",
        "outputId": "4defa2da-dd40-49c5-9aec-20cc2e100785"
      },
      "outputs": [
        {
          "data": {
            "text/html": [
              "<div>\n",
              "<style scoped>\n",
              "    .dataframe tbody tr th:only-of-type {\n",
              "        vertical-align: middle;\n",
              "    }\n",
              "\n",
              "    .dataframe tbody tr th {\n",
              "        vertical-align: top;\n",
              "    }\n",
              "\n",
              "    .dataframe thead th {\n",
              "        text-align: right;\n",
              "    }\n",
              "</style>\n",
              "<table border=\"1\" class=\"dataframe\">\n",
              "  <thead>\n",
              "    <tr style=\"text-align: right;\">\n",
              "      <th></th>\n",
              "      <th>carat</th>\n",
              "      <th>cut</th>\n",
              "      <th>color</th>\n",
              "      <th>clarity</th>\n",
              "      <th>depth</th>\n",
              "      <th>table</th>\n",
              "      <th>price</th>\n",
              "      <th>x</th>\n",
              "      <th>y</th>\n",
              "      <th>z</th>\n",
              "    </tr>\n",
              "  </thead>\n",
              "  <tbody>\n",
              "    <tr>\n",
              "      <th>0</th>\n",
              "      <td>0.23</td>\n",
              "      <td>Ideal</td>\n",
              "      <td>E</td>\n",
              "      <td>SI2</td>\n",
              "      <td>61.5</td>\n",
              "      <td>55.0</td>\n",
              "      <td>326</td>\n",
              "      <td>3.95</td>\n",
              "      <td>3.98</td>\n",
              "      <td>2.43</td>\n",
              "    </tr>\n",
              "    <tr>\n",
              "      <th>1</th>\n",
              "      <td>0.21</td>\n",
              "      <td>Premium</td>\n",
              "      <td>E</td>\n",
              "      <td>SI1</td>\n",
              "      <td>59.8</td>\n",
              "      <td>61.0</td>\n",
              "      <td>326</td>\n",
              "      <td>3.89</td>\n",
              "      <td>3.84</td>\n",
              "      <td>2.31</td>\n",
              "    </tr>\n",
              "    <tr>\n",
              "      <th>2</th>\n",
              "      <td>0.23</td>\n",
              "      <td>Good</td>\n",
              "      <td>E</td>\n",
              "      <td>VS1</td>\n",
              "      <td>56.9</td>\n",
              "      <td>65.0</td>\n",
              "      <td>327</td>\n",
              "      <td>4.05</td>\n",
              "      <td>4.07</td>\n",
              "      <td>2.31</td>\n",
              "    </tr>\n",
              "    <tr>\n",
              "      <th>3</th>\n",
              "      <td>0.29</td>\n",
              "      <td>Premium</td>\n",
              "      <td>I</td>\n",
              "      <td>VS2</td>\n",
              "      <td>62.4</td>\n",
              "      <td>58.0</td>\n",
              "      <td>334</td>\n",
              "      <td>4.20</td>\n",
              "      <td>4.23</td>\n",
              "      <td>2.63</td>\n",
              "    </tr>\n",
              "    <tr>\n",
              "      <th>4</th>\n",
              "      <td>0.31</td>\n",
              "      <td>Good</td>\n",
              "      <td>J</td>\n",
              "      <td>SI2</td>\n",
              "      <td>63.3</td>\n",
              "      <td>58.0</td>\n",
              "      <td>335</td>\n",
              "      <td>4.34</td>\n",
              "      <td>4.35</td>\n",
              "      <td>2.75</td>\n",
              "    </tr>\n",
              "  </tbody>\n",
              "</table>\n",
              "</div>"
            ],
            "text/plain": [
              "   carat      cut color clarity  depth  table  price     x     y     z\n",
              "0   0.23    Ideal     E     SI2   61.5   55.0    326  3.95  3.98  2.43\n",
              "1   0.21  Premium     E     SI1   59.8   61.0    326  3.89  3.84  2.31\n",
              "2   0.23     Good     E     VS1   56.9   65.0    327  4.05  4.07  2.31\n",
              "3   0.29  Premium     I     VS2   62.4   58.0    334  4.20  4.23  2.63\n",
              "4   0.31     Good     J     SI2   63.3   58.0    335  4.34  4.35  2.75"
            ]
          },
          "execution_count": 4,
          "metadata": {},
          "output_type": "execute_result"
        }
      ],
      "source": [
        "df.head()"
      ]
    },
    {
      "cell_type": "code",
      "execution_count": 5,
      "metadata": {
        "colab": {
          "base_uri": "https://localhost:8080/",
          "height": 0
        },
        "id": "f1zLREbZ6lsx",
        "outputId": "f390c61b-9830-47a8-d6a1-7b5868f08733"
      },
      "outputs": [
        {
          "data": {
            "text/plain": [
              "(53940, 10)"
            ]
          },
          "execution_count": 5,
          "metadata": {},
          "output_type": "execute_result"
        }
      ],
      "source": [
        "df.shape"
      ]
    },
    {
      "cell_type": "code",
      "execution_count": 6,
      "metadata": {
        "id": "-WExOmWk6lsx"
      },
      "outputs": [],
      "source": [
        "# split the data into X and y\n",
        "X = df.drop('cut', axis=1)\n",
        "y = df['cut']\n",
        "\n",
        "# encode the input variables\n",
        "le = LabelEncoder()\n",
        "X['color'] = le.fit_transform(X['color'])\n",
        "X['clarity'] = le.fit_transform(X['clarity'])\n",
        "\n",
        "# encode the target variable\n",
        "y = le.fit_transform(y)\n",
        "\n",
        "# split the data into train and test sets\n",
        "X_train, X_test, y_train, y_test = train_test_split(X, y, test_size=0.2)"
      ]
    },
    {
      "cell_type": "markdown",
      "metadata": {
        "id": "RambD9bN7OCz"
      },
      "source": [
        "## **DecisionTreeClassifier**\n",
        "\n",
        "### **Accuracy score:  0.70**"
      ]
    },
    {
      "cell_type": "code",
      "execution_count": 7,
      "metadata": {
        "colab": {
          "base_uri": "https://localhost:8080/",
          "height": 0
        },
        "id": "zUEXIOn-6lsx",
        "outputId": "ba0b614d-399a-4acb-b300-b4aff0508c49"
      },
      "outputs": [
        {
          "name": "stdout",
          "output_type": "stream",
          "text": [
            "Accuracy score:  0.71449758991472\n",
            "Precision score:  0.71449758991472\n",
            "Recall score:  0.71449758991472\n",
            "F1 score:  0.71449758991472\n"
          ]
        }
      ],
      "source": [
        "# %%time\n",
        "# train the decision tree model\n",
        "dt = DecisionTreeClassifier()\n",
        "dt.fit(X_train, y_train)\n",
        "\n",
        "# predict the test data\n",
        "y_pred = dt.predict(X_test)\n",
        "\n",
        "print('Accuracy score: ', accuracy_score(y_test, y_pred))\n",
        "print('Precision score: ', precision_score(y_test, y_pred, average='micro'))\n",
        "print('Recall score: ', recall_score(y_test, y_pred, average='micro'))\n",
        "print('F1 score: ', f1_score(y_test, y_pred, average='micro'))"
      ]
    },
    {
      "cell_type": "markdown",
      "metadata": {
        "id": "ISWB_XTn7V8P"
      },
      "source": [
        "## **RandomForestClassifier**\n",
        "\n",
        "### **Accuracy score:  0.78**"
      ]
    },
    {
      "cell_type": "code",
      "execution_count": 8,
      "metadata": {
        "colab": {
          "base_uri": "https://localhost:8080/",
          "height": 0
        },
        "id": "Jt78ZEid6lsy",
        "outputId": "87eb93f9-04c4-463b-ad46-4acb969dcd95"
      },
      "outputs": [
        {
          "name": "stdout",
          "output_type": "stream",
          "text": [
            "Accuracy score:  0.7886540600667408\n",
            "Precision score:  0.7886540600667408\n",
            "Recall score:  0.7886540600667408\n",
            "F1 score:  0.7886540600667408\n"
          ]
        }
      ],
      "source": [
        "# %%time\n",
        "# train the random forest model\n",
        "rf = RandomForestClassifier()\n",
        "rf.fit(X_train, y_train)\n",
        "\n",
        "# predict the test data\n",
        "y_pred = rf.predict(X_test)\n",
        "\n",
        "print('Accuracy score: ', accuracy_score(y_test, y_pred))\n",
        "print('Precision score: ', precision_score(y_test, y_pred, average='micro'))\n",
        "print('Recall score: ', recall_score(y_test, y_pred, average='micro'))\n",
        "print('F1 score: ', f1_score(y_test, y_pred, average='micro'))"
      ]
    },
    {
      "cell_type": "markdown",
      "metadata": {
        "id": "1kIQtfW17kuV"
      },
      "source": [
        "## **XGBClassifier**\n",
        "\n",
        "### **Accuracy score:  0.79**"
      ]
    },
    {
      "cell_type": "code",
      "execution_count": 9,
      "metadata": {
        "colab": {
          "base_uri": "https://localhost:8080/",
          "height": 0
        },
        "id": "aYYxNPGN6lsy",
        "outputId": "d02bf093-7dbd-4a85-b575-547362a541e0"
      },
      "outputs": [
        {
          "name": "stdout",
          "output_type": "stream",
          "text": [
            "Accuracy score:  0.803578049684835\n",
            "Precision score:  0.803578049684835\n",
            "Recall score:  0.803578049684835\n",
            "F1 score:  0.803578049684835\n"
          ]
        }
      ],
      "source": [
        "# %%time\n",
        "# train the xgboost model\n",
        "xgb = XGBClassifier()\n",
        "xgb.fit(X_train, y_train)\n",
        "\n",
        "# predict the test data\n",
        "y_pred = xgb.predict(X_test)\n",
        "\n",
        "print('Accuracy score: ', accuracy_score(y_test, y_pred))\n",
        "print('Precision score: ', precision_score(y_test, y_pred, average='micro'))\n",
        "print('Recall score: ', recall_score(y_test, y_pred, average='micro'))\n",
        "print('F1 score: ', f1_score(y_test, y_pred, average='micro'))"
      ]
    },
    {
      "cell_type": "markdown",
      "metadata": {
        "id": "GOOfUy-o7rhk"
      },
      "source": [
        "### **Comparison**"
      ]
    },
    {
      "cell_type": "code",
      "execution_count": 10,
      "metadata": {
        "colab": {
          "base_uri": "https://localhost:8080/",
          "height": 391
        },
        "id": "M6ljG6rY6lsy",
        "outputId": "cb705dc0-eb83-472a-e07d-60af4de36a12"
      },
      "outputs": [
        {
          "data": {
            "image/png": "[encoded data removed]",
            "text/plain": [
              "<Figure size 1500x400 with 3 Axes>"
            ]
          },
          "metadata": {},
          "output_type": "display_data"
        }
      ],
      "source": [
        "# make a bar plot showing each of the matrix with respect to the model\n",
        "plt.figure(figsize=(15, 4))\n",
        "plt.subplot(1, 4, 1)\n",
        "sns.barplot(x=['Accuracy', 'Precision', 'Recall', 'F1'], y=[accuracy_score(y_test, y_pred), precision_score(y_test, y_pred, average='micro'), recall_score(y_test, y_pred, average='micro'), f1_score(y_test, y_pred, average='micro')])\n",
        "plt.title('Decision Tree')\n",
        "plt.subplot(1, 4, 2)\n",
        "sns.barplot(x=['Accuracy', 'Precision', 'Recall', 'F1'], y=[accuracy_score(y_test, y_pred), precision_score(y_test, y_pred, average='micro'), recall_score(y_test, y_pred, average='micro'), f1_score(y_test, y_pred, average='micro')])\n",
        "plt.title('Random Forest')\n",
        "plt.subplot(1, 4, 3)\n",
        "sns.barplot(x=['Accuracy', 'Precision', 'Recall', 'F1'], y=[accuracy_score(y_test, y_pred), precision_score(y_test, y_pred, average='micro'), recall_score(y_test, y_pred, average='micro'), f1_score(y_test, y_pred, average='micro')])\n",
        "plt.title('XGBoost')\n",
        "# plt.tight_layout()\n",
        "plt.show()"
      ]
    },
    {
      "cell_type": "code",
      "execution_count": 11,
      "metadata": {},
      "outputs": [
        {
          "name": "stdout",
          "output_type": "stream",
          "text": [
            "Accuracy score:  0.7923618835743419\n",
            "Precision score:  0.7923618835743419\n",
            "Recall score:  0.7923618835743419\n",
            "F1 score:  0.7923618835743419\n"
          ]
        }
      ],
      "source": [
        "from sklearn.ensemble import BaggingClassifier\n",
        "\n",
        "# Create a Bagging classifier\n",
        "bagging = BaggingClassifier(estimator=DecisionTreeClassifier(), n_estimators=50, random_state=42)\n",
        "\n",
        "# Train the Bagging classifier\n",
        "bagging.fit(X_train, y_train)\n",
        "\n",
        "# Predict the test data\n",
        "y_pred_bagging = bagging.predict(X_test)\n",
        "\n",
        "# Print the evaluation metrics\n",
        "print('Accuracy score: ', accuracy_score(y_test, y_pred_bagging))\n",
        "print('Precision score: ', precision_score(y_test, y_pred_bagging, average='micro'))\n",
        "print('Recall score: ', recall_score(y_test, y_pred_bagging, average='micro'))\n",
        "print('F1 score: ', f1_score(y_test, y_pred_bagging, average='micro'))"
      ]
    },
    {
      "cell_type": "code",
      "execution_count": null,
      "metadata": {},
      "outputs": [],
      "source": []
    }
  ],
  "metadata": {
    "colab": {
      "provenance": []
    },
    "kernelspec": {
      "display_name": "machine_learning",
      "language": "python",
      "name": "python3"
    },
    "language_info": {
      "codemirror_mode": {
        "name": "ipython",
        "version": 3
      },
      "file_extension": ".py",
      "mimetype": "text/x-python",
      "name": "python",
      "nbconvert_exporter": "python",
      "pygments_lexer": "ipython3",
      "version": "3.12.5"
    }
  },
  "nbformat": 4,
  "nbformat_minor": 0
}
