{
 "cells": [
  {
   "cell_type": "code",
   "execution_count": 19,
   "metadata": {},
   "outputs": [
    {
     "name": "stdout",
     "output_type": "stream",
     "text": [
      "Accuracy: 0.9848\n",
      "Confusion Matrix:\n",
      "[[962   3]\n",
      " [ 14 136]]\n",
      "Classification Report:\n",
      "              precision    recall  f1-score   support\n",
      "\n",
      "           0       0.99      1.00      0.99       965\n",
      "           1       0.98      0.91      0.94       150\n",
      "\n",
      "    accuracy                           0.98      1115\n",
      "   macro avg       0.98      0.95      0.97      1115\n",
      "weighted avg       0.98      0.98      0.98      1115\n",
      "\n",
      "The message is classified as: Spam\n"
     ]
    }
   ],
   "source": [
    "# Import necessary libraries\n",
    "import pandas as pd\n",
    "from sklearn.model_selection import train_test_split\n",
    "from sklearn.feature_extraction.text import CountVectorizer\n",
    "from sklearn.naive_bayes import MultinomialNB\n",
    "from sklearn.metrics import accuracy_score, classification_report, confusion_matrix\n",
    "\n",
    "# Load the dataset\n",
    "df = pd.read_csv('spam.csv', encoding='latin1')\n",
    "\n",
    "# Step 1: Retain relevant columns and drop NaN values\n",
    "df_clean = df[['v1', 'v2']].dropna()\n",
    "df_clean.columns = ['label', 'message']  # Rename columns for clarity\n",
    "\n",
    "# Step 2: Encode labels ('ham' -> 0, 'spam' -> 1)\n",
    "df_clean['label_encoded'] = df_clean['label'].map({'ham': 0, 'spam': 1})\n",
    "\n",
    "# Step 3: Split the data into training and testing sets\n",
    "X = df_clean['message']\n",
    "y = df_clean['label_encoded']\n",
    "X_train, X_test, y_train, y_test = train_test_split(X, y, test_size=0.2, random_state=42)\n",
    "\n",
    "# Step 4: Convert messages to numerical features using CountVectorizer (Bag of Words)\n",
    "vectorizer = CountVectorizer(stop_words='english')\n",
    "X_train_vectorized = vectorizer.fit_transform(X_train)\n",
    "X_test_vectorized = vectorizer.transform(X_test)\n",
    "\n",
    "# Step 5: Train the Naive Bayes classifier\n",
    "naive_bayes_model = MultinomialNB(alpha=2)\n",
    "naive_bayes_model.fit(X_train_vectorized, y_train)\n",
    "\n",
    "# Step 6: Make predictions on the test set\n",
    "y_pred = naive_bayes_model.predict(X_test_vectorized)\n",
    "\n",
    "# Step 7: Evaluate the model\n",
    "accuracy = accuracy_score(y_test, y_pred)\n",
    "conf_matrix = confusion_matrix(y_test, y_pred)\n",
    "report = classification_report(y_test, y_pred)\n",
    "\n",
    "print(f'Accuracy: {accuracy:.4f}')\n",
    "print('Confusion Matrix:')\n",
    "print(conf_matrix)\n",
    "print('Classification Report:')\n",
    "print(report)\n",
    "\n",
    "# Step 8: Predict on a new email message\n",
    "sample_message = [\"New TEXTBUDDY Chat 2 horny guys in ur area 4 just 25p Free 2 receive Search postcode or at gaytextbuddy.com. \"]\n",
    "sample_vectorized = vectorizer.transform(sample_message)\n",
    "sample_prediction = naive_bayes_model.predict(sample_vectorized)\n",
    "\n",
    "# Output the prediction for the sample message\n",
    "predicted_label = 'Spam' if sample_prediction[0] == 1 else 'Not Spam'\n",
    "print(f'The message is classified as: {predicted_label}')\n"
   ]
  },
  {
   "cell_type": "code",
   "execution_count": 20,
   "metadata": {},
   "outputs": [
    {
     "name": "stdout",
     "output_type": "stream",
     "text": [
      "Running on local URL:  http://127.0.0.1:7871\n",
      "\n",
      "To create a public link, set `share=True` in `launch()`.\n"
     ]
    },
    {
     "data": {
      "text/html": [
       "<div><iframe src=\"http://127.0.0.1:7871/\" width=\"100%\" height=\"500\" allow=\"autoplay; camera; microphone; clipboard-read; clipboard-write;\" frameborder=\"0\" allowfullscreen></iframe></div>"
      ],
      "text/plain": [
       "<IPython.core.display.HTML object>"
      ]
     },
     "metadata": {},
     "output_type": "display_data"
    },
    {
     "data": {
      "text/plain": []
     },
     "execution_count": 20,
     "metadata": {},
     "output_type": "execute_result"
    }
   ],
   "source": [
    "import gradio as gr\n",
    "\n",
    "# Define the function to classify text\n",
    "def classify_text(message):\n",
    "    sample_vectorized = vectorizer.transform([message])\n",
    "    sample_prediction = naive_bayes_model.predict(sample_vectorized)\n",
    "    predicted_label = 'Spam' if sample_prediction[0] == 1 else 'Not Spam'\n",
    "    return predicted_label\n",
    "\n",
    "# Create the Gradio interface\n",
    "iface = gr.Interface(\n",
    "    fn=classify_text,\n",
    "    inputs=gr.Textbox(lines=2, placeholder=\"Enter a message...\"),\n",
    "    outputs=\"text\",\n",
    "    title=\"Spam Classifier\",\n",
    "    description=\"Enter a message to classify it as Spam or Not Spam.\"\n",
    ")\n",
    "\n",
    "# Launch the interface\n",
    "iface.launch()"
   ]
  },
  {
   "cell_type": "code",
   "execution_count": 21,
   "metadata": {},
   "outputs": [
    {
     "name": "stdout",
     "output_type": "stream",
     "text": [
      "Dataset saved as '20_newsgroups.csv'\n"
     ]
    }
   ],
   "source": [
    "import pandas as pd\n",
    "from sklearn.datasets import fetch_20newsgroups\n",
    "\n",
    "# Load the dataset\n",
    "newsgroups = fetch_20newsgroups(subset='all')\n",
    "\n",
    "# Create a DataFrame\n",
    "df = pd.DataFrame({\n",
    "    'text': newsgroups.data,\n",
    "    'target': newsgroups.target\n",
    "})\n",
    "\n",
    "# Map target labels to newsgroup names\n",
    "df['target'] = df['target'].map(dict(enumerate(newsgroups.target_names)))\n",
    "\n",
    "# Save as CSV\n",
    "df.to_csv('20_newsgroups.csv', index=False)\n",
    "\n",
    "print(\"Dataset saved as '20_newsgroups.csv'\")\n"
   ]
  },
  {
   "cell_type": "code",
   "execution_count": null,
   "metadata": {},
   "outputs": [],
   "source": []
  }
 ],
 "metadata": {
  "kernelspec": {
   "display_name": "machine_learning",
   "language": "python",
   "name": "python3"
  },
  "language_info": {
   "codemirror_mode": {
    "name": "ipython",
    "version": 3
   },
   "file_extension": ".py",
   "mimetype": "text/x-python",
   "name": "python",
   "nbconvert_exporter": "python",
   "pygments_lexer": "ipython3",
   "version": "3.12.5"
  }
 },
 "nbformat": 4,
 "nbformat_minor": 2
}
