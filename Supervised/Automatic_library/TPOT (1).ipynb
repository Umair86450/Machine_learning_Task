{
  "cells": [
    {
      "cell_type": "markdown",
      "metadata": {
        "id": "OZY6YLoDKG2Y"
      },
      "source": [
        "### **TPOTRegressor**\n",
        "\n",
        "Automated machine learning tool for optimizing machine learning pipelines.\n"
      ]
    },
    {
      "cell_type": "code",
      "execution_count": 1,
      "metadata": {
        "colab": {
          "base_uri": "https://localhost:8080/"
        },
        "id": "j3y-M2LrJ_yq",
        "outputId": "6dba95d6-84e5-40e0-95ef-55f7514e5142"
      },
      "outputs": [
        {
          "output_type": "stream",
          "name": "stdout",
          "text": [
            "Collecting tpot\n",
            "  Downloading TPOT-0.12.2-py3-none-any.whl.metadata (2.0 kB)\n",
            "Requirement already satisfied: numpy>=1.16.3 in /usr/local/lib/python3.10/dist-packages (from tpot) (1.26.4)\n",
            "Requirement already satisfied: scipy>=1.3.1 in /usr/local/lib/python3.10/dist-packages (from tpot) (1.13.1)\n",
            "Requirement already satisfied: scikit-learn>=1.4.1 in /usr/local/lib/python3.10/dist-packages (from tpot) (1.5.2)\n",
            "Collecting deap>=1.2 (from tpot)\n",
            "  Downloading deap-1.4.1-cp310-cp310-manylinux_2_5_x86_64.manylinux1_x86_64.manylinux_2_17_x86_64.manylinux2014_x86_64.whl.metadata (13 kB)\n",
            "Collecting update-checker>=0.16 (from tpot)\n",
            "  Downloading update_checker-0.18.0-py3-none-any.whl.metadata (2.3 kB)\n",
            "Requirement already satisfied: tqdm>=4.36.1 in /usr/local/lib/python3.10/dist-packages (from tpot) (4.66.5)\n",
            "Collecting stopit>=1.1.1 (from tpot)\n",
            "  Downloading stopit-1.1.2.tar.gz (18 kB)\n",
            "  Preparing metadata (setup.py) ... \u001b[?25l\u001b[?25hdone\n",
            "Requirement already satisfied: pandas>=0.24.2 in /usr/local/lib/python3.10/dist-packages (from tpot) (2.2.2)\n",
            "Requirement already satisfied: joblib>=0.13.2 in /usr/local/lib/python3.10/dist-packages (from tpot) (1.4.2)\n",
            "Requirement already satisfied: xgboost>=1.1.0 in /usr/local/lib/python3.10/dist-packages (from tpot) (2.1.1)\n",
            "Requirement already satisfied: python-dateutil>=2.8.2 in /usr/local/lib/python3.10/dist-packages (from pandas>=0.24.2->tpot) (2.8.2)\n",
            "Requirement already satisfied: pytz>=2020.1 in /usr/local/lib/python3.10/dist-packages (from pandas>=0.24.2->tpot) (2024.2)\n",
            "Requirement already satisfied: tzdata>=2022.7 in /usr/local/lib/python3.10/dist-packages (from pandas>=0.24.2->tpot) (2024.2)\n",
            "Requirement already satisfied: threadpoolctl>=3.1.0 in /usr/local/lib/python3.10/dist-packages (from scikit-learn>=1.4.1->tpot) (3.5.0)\n",
            "Requirement already satisfied: requests>=2.3.0 in /usr/local/lib/python3.10/dist-packages (from update-checker>=0.16->tpot) (2.32.3)\n",
            "Requirement already satisfied: nvidia-nccl-cu12 in /usr/local/lib/python3.10/dist-packages (from xgboost>=1.1.0->tpot) (2.23.4)\n",
            "Requirement already satisfied: six>=1.5 in /usr/local/lib/python3.10/dist-packages (from python-dateutil>=2.8.2->pandas>=0.24.2->tpot) (1.16.0)\n",
            "Requirement already satisfied: charset-normalizer<4,>=2 in /usr/local/lib/python3.10/dist-packages (from requests>=2.3.0->update-checker>=0.16->tpot) (3.3.2)\n",
            "Requirement already satisfied: idna<4,>=2.5 in /usr/local/lib/python3.10/dist-packages (from requests>=2.3.0->update-checker>=0.16->tpot) (3.10)\n",
            "Requirement already satisfied: urllib3<3,>=1.21.1 in /usr/local/lib/python3.10/dist-packages (from requests>=2.3.0->update-checker>=0.16->tpot) (2.2.3)\n",
            "Requirement already satisfied: certifi>=2017.4.17 in /usr/local/lib/python3.10/dist-packages (from requests>=2.3.0->update-checker>=0.16->tpot) (2024.8.30)\n",
            "Downloading TPOT-0.12.2-py3-none-any.whl (87 kB)\n",
            "\u001b[2K   \u001b[90m━━━━━━━━━━━━━━━━━━━━━━━━━━━━━━━━━━━━━━━━\u001b[0m \u001b[32m87.4/87.4 kB\u001b[0m \u001b[31m896.2 kB/s\u001b[0m eta \u001b[36m0:00:00\u001b[0m\n",
            "\u001b[?25hDownloading deap-1.4.1-cp310-cp310-manylinux_2_5_x86_64.manylinux1_x86_64.manylinux_2_17_x86_64.manylinux2014_x86_64.whl (135 kB)\n",
            "\u001b[2K   \u001b[90m━━━━━━━━━━━━━━━━━━━━━━━━━━━━━━━━━━━━━━━━\u001b[0m \u001b[32m135.4/135.4 kB\u001b[0m \u001b[31m5.5 MB/s\u001b[0m eta \u001b[36m0:00:00\u001b[0m\n",
            "\u001b[?25hDownloading update_checker-0.18.0-py3-none-any.whl (7.0 kB)\n",
            "Building wheels for collected packages: stopit\n",
            "  Building wheel for stopit (setup.py) ... \u001b[?25l\u001b[?25hdone\n",
            "  Created wheel for stopit: filename=stopit-1.1.2-py3-none-any.whl size=11938 sha256=045d7acd7a0737a313207f26f73191c92a418c1cfab673ccda430e423153aa72\n",
            "  Stored in directory: /root/.cache/pip/wheels/af/f9/87/bf5b3d565c2a007b4dae9d8142dccc85a9f164e517062dd519\n",
            "Successfully built stopit\n",
            "Installing collected packages: stopit, deap, update-checker, tpot\n",
            "Successfully installed deap-1.4.1 stopit-1.1.2 tpot-0.12.2 update-checker-0.18.0\n"
          ]
        }
      ],
      "source": [
        "!pip install tpot"
      ]
    },
    {
      "cell_type": "markdown",
      "metadata": {
        "id": "WRs4hVnBNoQ6"
      },
      "source": [
        "## **Datase**t:*Sales_Product_Price_by_Store.csv* --(Regressor)"
      ]
    },
    {
      "cell_type": "code",
      "execution_count": 2,
      "metadata": {
        "colab": {
          "base_uri": "https://localhost:8080/",
          "height": 610,
          "referenced_widgets": [
            "0a79c278f1c5471f8ed89fb449d7b6a2",
            "e9b833569c304dacaf9470ecd5251a34",
            "00e4c498793d43fa8b3d774de046c0b3",
            "ff1fe0f6e3194a23ad56fb583f12448c",
            "a4eb8f3b9fe64475b7620d3ec3a89662",
            "8be50bb92af7418eb7f647c1f14c7a01",
            "a55399f942ad4e3e9cc73d2d0a9d6bb1",
            "37a636a1cc8a439e87c5ed9482a169f5",
            "2360eda887af4bbdaf2765429840fe59",
            "06e2a2139e854a10abb0813cf1ed6315",
            "21c51b0caec144298d16009473f981f9"
          ]
        },
        "id": "9D2oKAKxKJp5",
        "outputId": "aa415225-0270-4fac-c8c1-5bb8b994de32"
      },
      "outputs": [
        {
          "output_type": "display_data",
          "data": {
            "text/plain": [
              "Optimization Progress:   0%|          | 0/120 [00:00<?, ?pipeline/s]"
            ],
            "application/vnd.jupyter.widget-view+json": {
              "version_major": 2,
              "version_minor": 0,
              "model_id": "0a79c278f1c5471f8ed89fb449d7b6a2"
            }
          },
          "metadata": {}
        },
        {
          "output_type": "stream",
          "name": "stdout",
          "text": [
            "\n",
            "Generation 1 - Current best internal CV score: -4653.78870006543\n",
            "\n",
            "Generation 2 - Current best internal CV score: -4653.78870006543\n",
            "\n",
            "Generation 3 - Current best internal CV score: -4653.78870006543\n",
            "\n",
            "Generation 4 - Current best internal CV score: -4620.089585630572\n",
            "\n",
            "Generation 5 - Current best internal CV score: -4620.089585630572\n",
            "\n",
            "Best pipeline: XGBRegressor(RidgeCV(input_matrix), learning_rate=0.5, max_depth=8, min_child_weight=3, n_estimators=100, n_jobs=1, objective=reg:squarederror, subsample=0.6000000000000001, verbosity=0)\n",
            "Best Pipeline:\n",
            "Pipeline(steps=[('stackingestimator', StackingEstimator(estimator=RidgeCV())),\n",
            "                ('xgbregressor',\n",
            "                 XGBRegressor(base_score=None, booster=None, callbacks=None,\n",
            "                              colsample_bylevel=None, colsample_bynode=None,\n",
            "                              colsample_bytree=None, device=None,\n",
            "                              early_stopping_rounds=None,\n",
            "                              enable_categorical=False, eval_metric=None,\n",
            "                              feature_types=None, gamma=None, grow_policy=None,\n",
            "                              importance_type=None,\n",
            "                              interaction_constraints=None, learning_rate=0.5,\n",
            "                              max_bin=None, max_cat_threshold=None,\n",
            "                              max_cat_to_onehot=None, max_delta_step=None,\n",
            "                              max_depth=8, max_leaves=None, min_child_weight=3,\n",
            "                              missing=nan, monotone_constraints=None,\n",
            "                              multi_strategy=None, n_estimators=100, n_jobs=1,\n",
            "                              num_parallel_tree=None, random_state=42, ...))])\n",
            "TPOT Mean Squared Error: 3240.6313807221973\n",
            "TPOT R² Score: 0.9357900619506836\n"
          ]
        },
        {
          "output_type": "stream",
          "name": "stderr",
          "text": [
            "/usr/local/lib/python3.10/dist-packages/sklearn/base.py:493: UserWarning: X does not have valid feature names, but RidgeCV was fitted with feature names\n",
            "  warnings.warn(\n"
          ]
        }
      ],
      "source": [
        "import pandas as pd\n",
        "from sklearn.model_selection import train_test_split\n",
        "from tpot import TPOTRegressor\n",
        "from sklearn.metrics import mean_squared_error, r2_score\n",
        "\n",
        "# Load the dataset\n",
        "df = pd.read_csv('/content/Sales_Product_Price_by_Store.csv')\n",
        "\n",
        "# Feature Engineering\n",
        "df['Date'] = pd.to_datetime(df['Date'])\n",
        "df['Year'] = df['Date'].dt.year\n",
        "df['Month'] = df['Date'].dt.month\n",
        "df['Day'] = df['Date'].dt.day\n",
        "df['Weekday'] = df['Date'].dt.weekday  # 0 = Monday, 6 = Sunday\n",
        "df['Is_Holiday'] = df['Is_Holiday'].astype(int)\n",
        "df = pd.get_dummies(df, columns=['Store', 'Product'], drop_first=True)\n",
        "df.drop(columns=['Date'], inplace=True)\n",
        "\n",
        "# Features and target variable\n",
        "X = df.drop(columns=['Weekly_Units_Sold'])  # Drop target column\n",
        "y = df['Weekly_Units_Sold']                  # Target variable\n",
        "\n",
        "# Split the dataset into training and testing sets\n",
        "X_train, X_test, y_train, y_test = train_test_split(X, y, test_size=0.3, random_state=42)\n",
        "\n",
        "# Initialize and fit the TPOT Regressor\n",
        "tpot = TPOTRegressor(verbosity=2, random_state=42, generations=5, population_size=20)\n",
        "tpot.fit(X_train, y_train)\n",
        "\n",
        "# Get the best pipeline\n",
        "print(\"Best Pipeline:\")\n",
        "print(tpot.fitted_pipeline_)\n",
        "\n",
        "# Make predictions using the best pipeline\n",
        "tpot_predictions = tpot.predict(X_test)\n",
        "\n",
        "# Evaluate the TPOT model\n",
        "tpot_mse = mean_squared_error(y_test, tpot_predictions)\n",
        "tpot_r2 = r2_score(y_test, tpot_predictions)\n",
        "\n",
        "print(f'TPOT Mean Squared Error: {tpot_mse}')\n",
        "print(f'TPOT R² Score: {tpot_r2}')\n",
        "\n",
        "# Export the best model if needed\n",
        "tpot.export('best_model_pipeline.py')\n"
      ]
    },
    {
      "cell_type": "code",
      "execution_count": 3,
      "metadata": {
        "colab": {
          "base_uri": "https://localhost:8080/"
        },
        "id": "Awk-3TERobqk",
        "outputId": "5035857a-2e89-45ce-f00e-e87a45121edf"
      },
      "outputs": [
        {
          "output_type": "stream",
          "name": "stdout",
          "text": [
            "<class 'pandas.core.frame.DataFrame'>\n",
            "RangeIndex: 3861 entries, 0 to 3860\n",
            "Data columns (total 18 columns):\n",
            " #   Column             Non-Null Count  Dtype  \n",
            "---  ------             --------------  -----  \n",
            " 0   Is_Holiday         3861 non-null   int64  \n",
            " 1   Base Price         3861 non-null   float64\n",
            " 2   Price              3861 non-null   float64\n",
            " 3   Weekly_Units_Sold  3861 non-null   int64  \n",
            " 4   Year               3861 non-null   int32  \n",
            " 5   Month              3861 non-null   int32  \n",
            " 6   Day                3861 non-null   int32  \n",
            " 7   Weekday            3861 non-null   int32  \n",
            " 8   Store_2            3861 non-null   bool   \n",
            " 9   Store_3            3861 non-null   bool   \n",
            " 10  Store_4            3861 non-null   bool   \n",
            " 11  Store_5            3861 non-null   bool   \n",
            " 12  Store_6            3861 non-null   bool   \n",
            " 13  Store_7            3861 non-null   bool   \n",
            " 14  Store_8            3861 non-null   bool   \n",
            " 15  Store_10           3861 non-null   bool   \n",
            " 16  Product_2          3861 non-null   bool   \n",
            " 17  Product_3          3861 non-null   bool   \n",
            "dtypes: bool(10), float64(2), int32(4), int64(2)\n",
            "memory usage: 218.8 KB\n"
          ]
        }
      ],
      "source": [
        "df.info()"
      ]
    },
    {
      "cell_type": "markdown",
      "metadata": {
        "id": "eD7fQfCHLGrj"
      },
      "source": [
        "## **Model Parameter**"
      ]
    },
    {
      "cell_type": "code",
      "execution_count": 4,
      "metadata": {
        "colab": {
          "base_uri": "https://localhost:8080/"
        },
        "id": "zs2c7MdcLKHW",
        "outputId": "dbcd4d14-5949-439e-b6f8-c0353efaba45"
      },
      "outputs": [
        {
          "output_type": "stream",
          "name": "stdout",
          "text": [
            "                     Parameter  Value\n",
            "0                  config_dict   None\n",
            "1               crossover_rate    0.1\n",
            "2                           cv      5\n",
            "3         disable_update_check  False\n",
            "4                   early_stop   None\n",
            "5                  generations    100\n",
            "6                     log_file   None\n",
            "7           max_eval_time_mins      5\n",
            "8                max_time_mins   None\n",
            "9                       memory   None\n",
            "10               mutation_rate    0.9\n",
            "11                      n_jobs      1\n",
            "12              offspring_size   None\n",
            "13  periodic_checkpoint_folder   None\n",
            "14             population_size    100\n",
            "15                random_state   None\n",
            "16                     scoring   None\n",
            "17                   subsample    1.0\n",
            "18                    template   None\n",
            "19                    use_dask  False\n",
            "20                   verbosity      0\n",
            "21                  warm_start  False\n"
          ]
        }
      ],
      "source": [
        "from tpot import TPOTRegressor\n",
        "import pandas as pd\n",
        "\n",
        "# Get the default parameters\n",
        "params = TPOTRegressor().get_params()\n",
        "\n",
        "# Create a DataFrame from the parameters\n",
        "params_df = pd.DataFrame(params.items(), columns=['Parameter', 'Value'])\n",
        "\n",
        "# Display the DataFrame\n",
        "print(params_df)\n"
      ]
    },
    {
      "cell_type": "markdown",
      "metadata": {
        "id": "Xgq88rpLbC7a"
      },
      "source": [
        "### **To provide the parameter use**"
      ]
    },
    {
      "cell_type": "code",
      "execution_count": 5,
      "metadata": {
        "colab": {
          "base_uri": "https://localhost:8080/",
          "height": 1000
        },
        "id": "mDXGMfCyYPP0",
        "outputId": "42a2392e-bcbd-4269-d639-06fa10295840"
      },
      "outputs": [
        {
          "output_type": "stream",
          "name": "stderr",
          "text": [
            "/usr/local/lib/python3.10/dist-packages/sklearn/base.py:493: UserWarning: X does not have valid feature names, but RidgeCV was fitted with feature names\n",
            "  warnings.warn(\n",
            "/usr/local/lib/python3.10/dist-packages/sklearn/base.py:493: UserWarning: X does not have valid feature names, but RidgeCV was fitted with feature names\n",
            "  warnings.warn(\n"
          ]
        },
        {
          "output_type": "stream",
          "name": "stdout",
          "text": [
            "Mean Squared Error: 2510.9466128791914\n",
            "Mean Absolute Error: 28.51047296603027\n",
            "R² Score: 0.9482630491256714\n"
          ]
        },
        {
          "output_type": "display_data",
          "data": {
            "text/plain": [
              "<Figure size 1000x600 with 1 Axes>"
            ],
            "image/png": "[encoded data removed]"
          },
          "metadata": {}
        },
        {
          "output_type": "display_data",
          "data": {
            "text/plain": [
              "<Figure size 1000x600 with 1 Axes>"
            ],
            "image/png": "[encoded data removed]"
          },
          "metadata": {}
        }
      ],
      "source": [
        "import numpy as np\n",
        "import pandas as pd\n",
        "from sklearn.linear_model import RidgeCV\n",
        "from sklearn.model_selection import train_test_split\n",
        "from sklearn.pipeline import make_pipeline\n",
        "from tpot.builtins import StackingEstimator\n",
        "from xgboost import XGBRegressor\n",
        "from tpot.export_utils import set_param_recursive\n",
        "from sklearn.metrics import mean_squared_error, mean_absolute_error, r2_score\n",
        "import matplotlib.pyplot as plt\n",
        "import seaborn as sns\n",
        "\n",
        "# Load the data\n",
        "tpot_data = pd.read_csv('/content/Sales_Product_Price_by_Store.csv', sep=',')\n",
        "\n",
        "# Convert 'Date' to datetime and extract features\n",
        "tpot_data['Date'] = pd.to_datetime(tpot_data['Date'])\n",
        "tpot_data['Year'] = tpot_data['Date'].dt.year\n",
        "tpot_data['Month'] = tpot_data['Date'].dt.month\n",
        "tpot_data['Day'] = tpot_data['Date'].dt.day\n",
        "tpot_data['Weekday'] = tpot_data['Date'].dt.weekday\n",
        "tpot_data = pd.get_dummies(tpot_data, columns=['Store', 'Product'], drop_first=True)\n",
        "tpot_data.drop(columns=['Date'], inplace=True)\n",
        "\n",
        "# Split the data into features and target\n",
        "X = tpot_data.drop('Weekly_Units_Sold', axis=1)\n",
        "y = tpot_data['Weekly_Units_Sold']\n",
        "\n",
        "# Split the dataset into training and testing sets\n",
        "X_train, X_test, y_train, y_test = train_test_split(X, y, random_state=42)\n",
        "\n",
        "# Define the pipeline\n",
        "exported_pipeline = make_pipeline(\n",
        "    StackingEstimator(estimator=RidgeCV()),\n",
        "    XGBRegressor(learning_rate=0.5, max_depth=8, min_child_weight=3, n_estimators=100,\n",
        "                 n_jobs=1, objective=\"reg:squarederror\", subsample=0.6, verbosity=0)\n",
        ")\n",
        "\n",
        "# Fit the model\n",
        "exported_pipeline.fit(X_train, y_train)\n",
        "\n",
        "# Make predictions\n",
        "results = exported_pipeline.predict(X_test)\n",
        "\n",
        "# Calculate evaluation metrics\n",
        "mse = mean_squared_error(y_test, results)\n",
        "mae = mean_absolute_error(y_test, results)\n",
        "r2 = r2_score(y_test, results)\n",
        "\n",
        "# Print the evaluation metrics\n",
        "print(f'Mean Squared Error: {mse}')\n",
        "print(f'Mean Absolute Error: {mae}')\n",
        "print(f'R² Score: {r2}')\n",
        "\n",
        "# Plot predicted vs actual values\n",
        "plt.figure(figsize=(10, 6))\n",
        "sns.scatterplot(x=y_test, y=results, alpha=0.7)  # Scatter plot of actual vs predicted\n",
        "plt.plot([y_test.min(), y_test.max()], [y_test.min(), y_test.max()], color='red', linestyle='--')  # Diagonal line\n",
        "plt.title('Actual vs Predicted Values')  # Title of the plot\n",
        "plt.xlabel('Actual Values')  # X-axis label\n",
        "plt.ylabel('Predicted Values')  # Y-axis label\n",
        "plt.grid()  # Add grid lines\n",
        "plt.show()  # Display the plot\n",
        "\n",
        "# Plotting the residuals (prediction errors)\n",
        "errors = results - y_test  # Calculate errors\n",
        "plt.figure(figsize=(10, 6))\n",
        "sns.histplot(errors, bins=30, kde=True, color='blue')  # Histogram of errors with KDE\n",
        "plt.axvline(0, color='red', linestyle='--', label='Zero Error')  # Line at zero error\n",
        "plt.title('Distribution of Prediction Errors')  # Title of the plot\n",
        "plt.xlabel('Prediction Error (Predicted - Actual)')  # X-axis label\n",
        "plt.ylabel('Frequency')  # Y-axis label\n",
        "plt.legend()  # Show legend\n",
        "plt.grid()  # Add grid lines\n",
        "plt.show()  # Display the plot\n"
      ]
    },
    {
      "cell_type": "code",
      "execution_count": 6,
      "metadata": {
        "colab": {
          "base_uri": "https://localhost:8080/"
        },
        "id": "SQp_XIa8ndlP",
        "outputId": "b10a9b6f-6861-4304-885f-42dfa6d652f9"
      },
      "outputs": [
        {
          "output_type": "execute_result",
          "data": {
            "text/plain": [
              "Index(['Is_Holiday', 'Base Price', 'Price', 'Weekly_Units_Sold', 'Year',\n",
              "       'Month', 'Day', 'Weekday', 'Store_2', 'Store_3', 'Store_4', 'Store_5',\n",
              "       'Store_6', 'Store_7', 'Store_8', 'Store_10', 'Product_2', 'Product_3'],\n",
              "      dtype='object')"
            ]
          },
          "metadata": {},
          "execution_count": 6
        }
      ],
      "source": [
        "tpot_data.columns"
      ]
    },
    {
      "cell_type": "markdown",
      "metadata": {
        "id": "C8vA77isNxTm"
      },
      "source": [
        "### **Dataset:** *Tips* - (Regressor)"
      ]
    },
    {
      "cell_type": "code",
      "execution_count": 7,
      "metadata": {
        "colab": {
          "base_uri": "https://localhost:8080/"
        },
        "id": "4cqnZpOiNXws",
        "outputId": "4dadbc76-89b5-4fa5-db4f-18063d37e260"
      },
      "outputs": [
        {
          "output_type": "stream",
          "name": "stdout",
          "text": [
            "<class 'pandas.core.frame.DataFrame'>\n",
            "RangeIndex: 244 entries, 0 to 243\n",
            "Data columns (total 7 columns):\n",
            " #   Column      Non-Null Count  Dtype   \n",
            "---  ------      --------------  -----   \n",
            " 0   total_bill  244 non-null    float64 \n",
            " 1   tip         244 non-null    float64 \n",
            " 2   sex         244 non-null    category\n",
            " 3   smoker      244 non-null    category\n",
            " 4   day         244 non-null    category\n",
            " 5   time        244 non-null    category\n",
            " 6   size        244 non-null    int64   \n",
            "dtypes: category(4), float64(2), int64(1)\n",
            "memory usage: 7.4 KB\n",
            "None\n"
          ]
        }
      ],
      "source": [
        "import pandas as pd\n",
        "import numpy as np\n",
        "import seaborn as sns\n",
        "from sklearn.model_selection import train_test_split\n",
        "from tpot import TPOTRegressor\n",
        "from sklearn.metrics import mean_squared_error, mean_absolute_error, r2_score\n",
        "\n",
        "# Load the tips dataset\n",
        "tpot_data = sns.load_dataset('tips')\n",
        "\n",
        "# Display initial info\n",
        "print(tpot_data.info())\n",
        "\n",
        "# Convert categorical columns to 'category' type if not already done\n",
        "categorical_cols = ['sex', 'smoker', 'day', 'time']\n",
        "for col in categorical_cols:\n",
        "    tpot_data[col] = tpot_data[col].astype('category')\n",
        "\n",
        "# One-hot encode categorical features\n",
        "tpot_data = pd.get_dummies(tpot_data, columns=categorical_cols, drop_first=True)\n",
        "\n",
        "# Create new features\n",
        "# 1. Tip as a percentage of the total bill\n",
        "tpot_data['tip_percentage'] = (tpot_data['tip'] / tpot_data['total_bill']) * 100\n",
        "\n",
        "# 2. Total number of people (size)\n",
        "# Create a binary feature for large groups\n",
        "tpot_data['is_large_group'] = (tpot_data['size'] >= 5).astype(int)\n",
        "\n",
        "# Define features and target variable\n",
        "features = tpot_data.drop('tip', axis=1)  # Dropping the target column\n",
        "target = tpot_data['tip']\n",
        "\n",
        "# Train-test split\n",
        "X_train, X_test, y_train, y_test = train_test_split(features, target, test_size=0.2, random_state=42)"
      ]
    },
    {
      "cell_type": "code",
      "execution_count": 8,
      "metadata": {
        "colab": {
          "base_uri": "https://localhost:8080/",
          "height": 277,
          "referenced_widgets": [
            "d35ad1e33441430eb9bea92c8d636282",
            "5ffd3457906943909cd477ed8956d30d",
            "90c98b6c34d146068da4d9cd02ffb7e1",
            "bd2d790d586e407fb83e4a5d924eb4c0",
            "ab9a3bce04bf490bb465f90f4d119654",
            "9ffb673d62d641ceab1c4ecb3371278b",
            "65c9e1e9154c41128be68afb973bccdd",
            "7d8ebbecc2b441d7b9c5344529955cc5",
            "06e101a13688439daf78c65011e705ac",
            "bc39f7ad2f014dbdbea5932a267cbd51",
            "7a8d88ba11464b238794e0b297a16379"
          ]
        },
        "id": "aVxgBpcvNPHa",
        "outputId": "f01367ec-583b-4416-9339-5cf216ac31d8"
      },
      "outputs": [
        {
          "output_type": "display_data",
          "data": {
            "text/plain": [
              "Optimization Progress:   0%|          | 0/120 [00:00<?, ?pipeline/s]"
            ],
            "application/vnd.jupyter.widget-view+json": {
              "version_major": 2,
              "version_minor": 0,
              "model_id": "d35ad1e33441430eb9bea92c8d636282"
            }
          },
          "metadata": {}
        },
        {
          "output_type": "stream",
          "name": "stdout",
          "text": [
            "\n",
            "Generation 1 - Current best internal CV score: -0.33535101642139775\n",
            "\n",
            "Generation 2 - Current best internal CV score: -0.23648000000000002\n",
            "\n",
            "Generation 3 - Current best internal CV score: -0.23648000000000002\n",
            "\n",
            "Generation 4 - Current best internal CV score: -0.21292368087179486\n",
            "\n",
            "Generation 5 - Current best internal CV score: -0.21292368087179486\n",
            "\n",
            "Best pipeline: RandomForestRegressor(input_matrix, bootstrap=True, max_features=0.9000000000000001, min_samples_leaf=1, min_samples_split=2, n_estimators=100)\n",
            "Mean Squared Error: 0.17059027551020386\n",
            "Mean Absolute Error: 0.2206857142857142\n",
            "R² Score: 0.8635246510607225\n"
          ]
        }
      ],
      "source": [
        "\n",
        "\n",
        "# Initialize and fit the TPOT Regressor\n",
        "tpot = TPOTRegressor(verbosity=2, random_state=42, generations=5, population_size=20)\n",
        "tpot.fit(X_train, y_train)\n",
        "\n",
        "# Make predictions\n",
        "y_pred = tpot.predict(X_test)\n",
        "\n",
        "# Evaluate the model\n",
        "print('Mean Squared Error:', mean_squared_error(y_test, y_pred))\n",
        "print('Mean Absolute Error:', mean_absolute_error(y_test, y_pred))\n",
        "print('R² Score:', r2_score(y_test, y_pred))\n",
        "\n",
        "# Export the best pipeline\n",
        "tpot.export('best_pipeline.py')\n"
      ]
    },
    {
      "cell_type": "markdown",
      "metadata": {
        "id": "vihB1tFQV6iH"
      },
      "source": [
        "### **To provide the parameter use**"
      ]
    },
    {
      "cell_type": "code",
      "execution_count": 9,
      "metadata": {
        "colab": {
          "base_uri": "https://localhost:8080/",
          "height": 1000
        },
        "id": "coDFg_I2ZGLA",
        "outputId": "6dd88a27-1bd7-4bd8-ef25-b792d6b23893"
      },
      "outputs": [
        {
          "output_type": "stream",
          "name": "stdout",
          "text": [
            "Mean Squared Error: 0.18335481950819668\n",
            "Mean Absolute Error: 0.2382344262295082\n",
            "R² Score: 0.8621832552329752\n"
          ]
        },
        {
          "output_type": "display_data",
          "data": {
            "text/plain": [
              "<Figure size 1000x600 with 1 Axes>"
            ],
            "image/png": "[encoded data removed]"
          },
          "metadata": {}
        },
        {
          "output_type": "display_data",
          "data": {
            "text/plain": [
              "<Figure size 1000x600 with 1 Axes>"
            ],
            "image/png": "[encoded data removed]"
          },
          "metadata": {}
        }
      ],
      "source": [
        "import numpy as np  # Importing NumPy, a library for numerical operations\n",
        "import pandas as pd  # Importing Pandas, a library for data manipulation and analysis\n",
        "from sklearn.ensemble import RandomForestRegressor  # Importing the Random Forest model for predictions\n",
        "from sklearn.model_selection import train_test_split  # Importing a function to split data into training and testing sets\n",
        "from sklearn.metrics import mean_squared_error, mean_absolute_error, r2_score  # Importing functions to evaluate model performance\n",
        "import seaborn as sns  # Importing Seaborn, a library for data visualization\n",
        "import matplotlib.pyplot as plt  # Importing Matplotlib for plotting\n",
        "\n",
        "# Load the 'tips' dataset from Seaborn\n",
        "tpot_data = sns.load_dataset('tips')\n",
        "\n",
        "# Convert specific columns (like 'sex', 'smoker', 'day', and 'time') to 'category' type for better handling\n",
        "categorical_cols = ['sex', 'smoker', 'day', 'time']\n",
        "for col in categorical_cols:\n",
        "    tpot_data[col] = tpot_data[col].astype('category')  # Change column type\n",
        "\n",
        "# Transform categorical columns into numeric format using one-hot encoding\n",
        "tpot_data = pd.get_dummies(tpot_data, columns=categorical_cols, drop_first=True)  # Create dummy variables\n",
        "\n",
        "# Create new features to enhance our dataset:\n",
        "tpot_data['tip_percentage'] = (tpot_data['tip'] / tpot_data['total_bill']) * 100  # Calculate tip as a percentage\n",
        "tpot_data['is_large_group'] = (tpot_data['size'] >= 5).astype(int)  # Indicate if group size is large (5 or more)\n",
        "\n",
        "# Define the features (inputs) and the target variable (output)\n",
        "X = tpot_data.drop('tip', axis=1)  # Features: all columns except 'tip'\n",
        "y = tpot_data['tip']  # Target: the 'tip' column\n",
        "\n",
        "# Split the dataset into training and testing sets\n",
        "X_train, X_test, y_train, y_test = train_test_split(X, y, random_state=42)  # Randomly split data\n",
        "\n",
        "# Initialize the Random Forest model with specific settings\n",
        "exported_pipeline = RandomForestRegressor(\n",
        "    bootstrap=True,  # Use bootstrapping for the model\n",
        "    max_features=0.9,  # Use 90% of features when building trees\n",
        "    min_samples_leaf=1,  # Minimum samples required at a leaf node\n",
        "    min_samples_split=2,  # Minimum samples required to split an internal node\n",
        "    n_estimators=100,  # Number of trees in the forest\n",
        "    random_state=42  # Set random state for reproducibility\n",
        ")\n",
        "\n",
        "# Train the model using the training data\n",
        "exported_pipeline.fit(X_train, y_train)\n",
        "\n",
        "# Make predictions on the testing features\n",
        "results = exported_pipeline.predict(X_test)  # Predict tips using the test features\n",
        "\n",
        "# Evaluate the model's performance using various metrics\n",
        "mse = mean_squared_error(y_test, results)  # Calculate Mean Squared Error\n",
        "mae = mean_absolute_error(y_test, results)  # Calculate Mean Absolute Error\n",
        "r2 = r2_score(y_test, results)  # Calculate R² Score\n",
        "\n",
        "# Display the evaluation metrics\n",
        "print(\"Mean Squared Error:\", mse)  # Print Mean Squared Error\n",
        "print(\"Mean Absolute Error:\", mae)  # Print Mean Absolute Error\n",
        "print(\"R² Score:\", r2)  # Print R² Score, indicating how well the model explains the variability in the data\n",
        "\n",
        "# Calculate the prediction errors\n",
        "errors = results - y_test  # Calculate the difference between predicted and actual tips\n",
        "\n",
        "# Plotting the distribution of prediction errors\n",
        "plt.figure(figsize=(10, 6))  # Set the figure size\n",
        "sns.histplot(errors, bins=30, kde=True, color='blue')  # Histogram of errors with Kernel Density Estimate\n",
        "plt.axvline(0, color='red', linestyle='--', label='Zero Error')  # Line at zero error for reference\n",
        "\n",
        "# Highlighting the minimum error\n",
        "min_error = np.min(errors)  # Find the minimum error\n",
        "plt.axvline(min_error, color='green', linestyle='--', label='Minimum Error: {:.2f}'.format(min_error))  # Line for minimum error\n",
        "\n",
        "# Add title and labels to the plot\n",
        "plt.title('Distribution of Prediction Errors')  # Title of the plot\n",
        "plt.xlabel('Prediction Error (Predicted - Actual)')  # X-axis label\n",
        "plt.ylabel('Frequency')  # Y-axis label\n",
        "plt.legend()  # Show the legend\n",
        "plt.grid()  # Add grid lines to the plot\n",
        "plt.show()  # Display the plot\n",
        "\n",
        "# Plotting Actual vs Predicted\n",
        "plt.figure(figsize=(10, 6))  # Set the figure size\n",
        "plt.scatter(y_test, results, color='blue', alpha=0.5)  # Scatter plot of actual vs. predicted\n",
        "plt.plot([y_test.min(), y_test.max()], [y_test.min(), y_test.max()], color='red', linestyle='--')  # Line for perfect prediction\n",
        "plt.title('Actual vs Predicted Tips')  # Title of the plot\n",
        "plt.xlabel('Actual Tips')  # X-axis label\n",
        "plt.ylabel('Predicted Tips')  # Y-axis label\n",
        "plt.grid()  # Add grid lines to the plot\n",
        "plt.show()  # Display the plot\n"
      ]
    },
    {
      "cell_type": "markdown",
      "source": [
        "### **Loan dataset multiple algorithm**"
      ],
      "metadata": {
        "id": "4Il0GoNeTDNN"
      }
    },
    {
      "cell_type": "code",
      "source": [
        "import pandas as pd\n",
        "from sklearn.model_selection import train_test_split\n",
        "from sklearn.linear_model import LinearRegression\n",
        "from sklearn.tree import DecisionTreeRegressor\n",
        "from sklearn.ensemble import (RandomForestRegressor, GradientBoostingRegressor,\n",
        "                              AdaBoostRegressor, ExtraTreesRegressor, VotingRegressor, StackingRegressor)\n",
        "from sklearn.preprocessing import OneHotEncoder, LabelEncoder\n",
        "from sklearn.metrics import r2_score\n",
        "import seaborn as sns\n",
        "import matplotlib.pyplot as plt\n",
        "\n",
        "# Load your dataset\n",
        "df = pd.read_csv('/content/loan_data.csv')  # Update with your dataset path\n",
        "\n",
        "# Encode categorical variables if necessary\n",
        "le = LabelEncoder()\n",
        "df['purpose'] = le.fit_transform(df['purpose'])  # Assuming 'purpose' is the only categorical variable\n",
        "\n",
        "# Define features and target variable\n",
        "X = df.drop('not.fully.paid', axis=1)\n",
        "y = df['not.fully.paid']  # Replace with your target variable\n",
        "\n",
        "# Split the data into training and testing sets\n",
        "X_train, X_test, y_train, y_test = train_test_split(X, y, test_size=0.2, random_state=42)\n",
        "\n",
        "# Individual models\n",
        "models = {\n",
        "    'Linear Regression': LinearRegression(),\n",
        "    'Decision Tree': DecisionTreeRegressor(random_state=42),\n",
        "    'Random Forest': RandomForestRegressor(random_state=42),\n",
        "    'Gradient Boosting': GradientBoostingRegressor(random_state=42),\n",
        "    'AdaBoost': AdaBoostRegressor(random_state=42),\n",
        "    'Extra Trees': ExtraTreesRegressor(random_state=42)\n",
        "}\n",
        "\n",
        "# Dictionary to store results\n",
        "results = {}\n",
        "\n",
        "# Fit each model, predict, and calculate R² score\n",
        "for name, model in models.items():\n",
        "    model.fit(X_train, y_train)\n",
        "    y_pred = model.predict(X_test)\n",
        "    r2 = r2_score(y_test, y_pred)\n",
        "    results[name] = r2\n",
        "\n",
        "# Ensemble model using Voting\n",
        "voting_regressor = VotingRegressor(estimators=[(name, model) for name, model in models.items()])\n",
        "voting_regressor.fit(X_train, y_train)\n",
        "\n",
        "# Predict on the test set with the ensemble model\n",
        "y_pred_voting = voting_regressor.predict(X_test)\n",
        "\n",
        "# R² score for the ensemble model\n",
        "r2_voting = r2_score(y_test, y_pred_voting)\n",
        "results['Voting Ensemble'] = r2_voting\n",
        "\n",
        "# Stacking\n",
        "estimators = [(name, model) for name, model in models.items() if name != 'Linear Regression']  # Exclude Linear Regression\n",
        "stacking_model = StackingRegressor(estimators=estimators, final_estimator=LinearRegression())\n",
        "stacking_model.fit(X_train, y_train)\n",
        "\n",
        "# Evaluate the stacking model\n",
        "y_pred_stacking = stacking_model.predict(X_test)\n",
        "r2_stacking = r2_score(y_test, y_pred_stacking)\n",
        "results['Stacking Ensemble'] = r2_stacking\n",
        "\n",
        "# Display results\n",
        "print(\"R² Scores:\")\n",
        "for model, r2 in results.items():\n",
        "    print(f\"{model}: {r2:.2f}\")\n",
        "\n",
        "# Plotting the results r2 square\n",
        "plt.figure(figsize=(10, 6))\n",
        "sns.barplot(x=list(results.keys()), y=list(results.values()))\n",
        "plt.title('R² Score for Different Models')\n",
        "plt.ylabel('R² Score')\n",
        "plt.xticks(rotation=45)\n",
        "plt.ylim(0, 1)  # Adjusted for R² score range\n",
        "plt.axhline(0, color='red', linestyle='--')  # Line at R² = 0 for reference\n",
        "plt.show()\n",
        "\n",
        "\n",
        "\n",
        "# Plotting the results Mean square error\n",
        "plt.figure(figsize=(10, 6))\n",
        "sns.barplot(x=list(results.keys()), y=list(results.values()))\n",
        "plt.title('Mean Squared Error for Different Models')\n",
        "plt.ylabel('Mean Squared Error')\n",
        "plt.xticks(rotation=45)\n",
        "plt.ylim(0, max(results.values()) * 1.1)  # Slightly extend y-axis for better visibility\n",
        "plt.show()\n",
        "\n"
      ],
      "metadata": {
        "colab": {
          "base_uri": "https://localhost:8080/",
          "height": 1000
        },
        "id": "xYJnh_O1GU45",
        "outputId": "95bdcaf3-8861-48df-92e3-b0f41a8fa544"
      },
      "execution_count": 2,
      "outputs": [
        {
          "output_type": "stream",
          "name": "stdout",
          "text": [
            "R² Scores:\n",
            "Linear Regression: 0.06\n",
            "Decision Tree: -0.91\n",
            "Random Forest: 0.02\n",
            "Gradient Boosting: 0.05\n",
            "AdaBoost: 0.03\n",
            "Extra Trees: 0.00\n",
            "Voting Ensemble: 0.03\n",
            "Stacking Ensemble: 0.06\n"
          ]
        },
        {
          "output_type": "display_data",
          "data": {
            "text/plain": [
              "<Figure size 1000x600 with 1 Axes>"
            ],
            "image/png": "[encoded data removed]"
          },
          "metadata": {}
        },
        {
          "output_type": "display_data",
          "data": {
            "text/plain": [
              "<Figure size 1000x600 with 1 Axes>"
            ],
            "image/png": "[encoded data removed]"
          },
          "metadata": {}
        }
      ]
    },
    {
      "cell_type": "code",
      "source": [
        "df.info()"
      ],
      "metadata": {
        "colab": {
          "base_uri": "https://localhost:8080/"
        },
        "id": "koiNKBN0TadA",
        "outputId": "ea56d011-cad0-49e1-cc4a-ec21c99ea077"
      },
      "execution_count": 3,
      "outputs": [
        {
          "output_type": "stream",
          "name": "stdout",
          "text": [
            "<class 'pandas.core.frame.DataFrame'>\n",
            "RangeIndex: 9578 entries, 0 to 9577\n",
            "Data columns (total 14 columns):\n",
            " #   Column             Non-Null Count  Dtype  \n",
            "---  ------             --------------  -----  \n",
            " 0   credit.policy      9578 non-null   int64  \n",
            " 1   purpose            9578 non-null   int64  \n",
            " 2   int.rate           9578 non-null   float64\n",
            " 3   installment        9578 non-null   float64\n",
            " 4   log.annual.inc     9578 non-null   float64\n",
            " 5   dti                9578 non-null   float64\n",
            " 6   fico               9578 non-null   int64  \n",
            " 7   days.with.cr.line  9578 non-null   float64\n",
            " 8   revol.bal          9578 non-null   int64  \n",
            " 9   revol.util         9578 non-null   float64\n",
            " 10  inq.last.6mths     9578 non-null   int64  \n",
            " 11  delinq.2yrs        9578 non-null   int64  \n",
            " 12  pub.rec            9578 non-null   int64  \n",
            " 13  not.fully.paid     9578 non-null   int64  \n",
            "dtypes: float64(6), int64(8)\n",
            "memory usage: 1.0 MB\n"
          ]
        }
      ]
    },
    {
      "cell_type": "code",
      "source": [
        "pip install tpot\n"
      ],
      "metadata": {
        "colab": {
          "base_uri": "https://localhost:8080/"
        },
        "id": "QZNmdR1pUx-x",
        "outputId": "c18b0dac-13ec-4c98-be97-b79c97413bfe"
      },
      "execution_count": 5,
      "outputs": [
        {
          "output_type": "stream",
          "name": "stdout",
          "text": [
            "Collecting tpot\n",
            "  Downloading TPOT-0.12.2-py3-none-any.whl.metadata (2.0 kB)\n",
            "Requirement already satisfied: numpy>=1.16.3 in /usr/local/lib/python3.10/dist-packages (from tpot) (1.26.4)\n",
            "Requirement already satisfied: scipy>=1.3.1 in /usr/local/lib/python3.10/dist-packages (from tpot) (1.13.1)\n",
            "Requirement already satisfied: scikit-learn>=1.4.1 in /usr/local/lib/python3.10/dist-packages (from tpot) (1.5.2)\n",
            "Collecting deap>=1.2 (from tpot)\n",
            "  Downloading deap-1.4.1-cp310-cp310-manylinux_2_5_x86_64.manylinux1_x86_64.manylinux_2_17_x86_64.manylinux2014_x86_64.whl.metadata (13 kB)\n",
            "Collecting update-checker>=0.16 (from tpot)\n",
            "  Downloading update_checker-0.18.0-py3-none-any.whl.metadata (2.3 kB)\n",
            "Requirement already satisfied: tqdm>=4.36.1 in /usr/local/lib/python3.10/dist-packages (from tpot) (4.66.5)\n",
            "Collecting stopit>=1.1.1 (from tpot)\n",
            "  Downloading stopit-1.1.2.tar.gz (18 kB)\n",
            "  Preparing metadata (setup.py) ... \u001b[?25l\u001b[?25hdone\n",
            "Requirement already satisfied: pandas>=0.24.2 in /usr/local/lib/python3.10/dist-packages (from tpot) (2.2.2)\n",
            "Requirement already satisfied: joblib>=0.13.2 in /usr/local/lib/python3.10/dist-packages (from tpot) (1.4.2)\n",
            "Requirement already satisfied: xgboost>=1.1.0 in /usr/local/lib/python3.10/dist-packages (from tpot) (2.1.1)\n",
            "Requirement already satisfied: python-dateutil>=2.8.2 in /usr/local/lib/python3.10/dist-packages (from pandas>=0.24.2->tpot) (2.8.2)\n",
            "Requirement already satisfied: pytz>=2020.1 in /usr/local/lib/python3.10/dist-packages (from pandas>=0.24.2->tpot) (2024.2)\n",
            "Requirement already satisfied: tzdata>=2022.7 in /usr/local/lib/python3.10/dist-packages (from pandas>=0.24.2->tpot) (2024.2)\n",
            "Requirement already satisfied: threadpoolctl>=3.1.0 in /usr/local/lib/python3.10/dist-packages (from scikit-learn>=1.4.1->tpot) (3.5.0)\n",
            "Requirement already satisfied: requests>=2.3.0 in /usr/local/lib/python3.10/dist-packages (from update-checker>=0.16->tpot) (2.32.3)\n",
            "Requirement already satisfied: nvidia-nccl-cu12 in /usr/local/lib/python3.10/dist-packages (from xgboost>=1.1.0->tpot) (2.23.4)\n",
            "Requirement already satisfied: six>=1.5 in /usr/local/lib/python3.10/dist-packages (from python-dateutil>=2.8.2->pandas>=0.24.2->tpot) (1.16.0)\n",
            "Requirement already satisfied: charset-normalizer<4,>=2 in /usr/local/lib/python3.10/dist-packages (from requests>=2.3.0->update-checker>=0.16->tpot) (3.4.0)\n",
            "Requirement already satisfied: idna<4,>=2.5 in /usr/local/lib/python3.10/dist-packages (from requests>=2.3.0->update-checker>=0.16->tpot) (3.10)\n",
            "Requirement already satisfied: urllib3<3,>=1.21.1 in /usr/local/lib/python3.10/dist-packages (from requests>=2.3.0->update-checker>=0.16->tpot) (2.2.3)\n",
            "Requirement already satisfied: certifi>=2017.4.17 in /usr/local/lib/python3.10/dist-packages (from requests>=2.3.0->update-checker>=0.16->tpot) (2024.8.30)\n",
            "Downloading TPOT-0.12.2-py3-none-any.whl (87 kB)\n",
            "\u001b[2K   \u001b[90m━━━━━━━━━━━━━━━━━━━━━━━━━━━━━━━━━━━━━━━━\u001b[0m \u001b[32m87.4/87.4 kB\u001b[0m \u001b[31m6.6 MB/s\u001b[0m eta \u001b[36m0:00:00\u001b[0m\n",
            "\u001b[?25hDownloading deap-1.4.1-cp310-cp310-manylinux_2_5_x86_64.manylinux1_x86_64.manylinux_2_17_x86_64.manylinux2014_x86_64.whl (135 kB)\n",
            "\u001b[2K   \u001b[90m━━━━━━━━━━━━━━━━━━━━━━━━━━━━━━━━━━━━━━━━\u001b[0m \u001b[32m135.4/135.4 kB\u001b[0m \u001b[31m10.2 MB/s\u001b[0m eta \u001b[36m0:00:00\u001b[0m\n",
            "\u001b[?25hDownloading update_checker-0.18.0-py3-none-any.whl (7.0 kB)\n",
            "Building wheels for collected packages: stopit\n",
            "  Building wheel for stopit (setup.py) ... \u001b[?25l\u001b[?25hdone\n",
            "  Created wheel for stopit: filename=stopit-1.1.2-py3-none-any.whl size=11938 sha256=a860d3fc39c8766ac398bc550af98cc92fe48db23ffaffe95bd5a78c1f1bc298\n",
            "  Stored in directory: /root/.cache/pip/wheels/af/f9/87/bf5b3d565c2a007b4dae9d8142dccc85a9f164e517062dd519\n",
            "Successfully built stopit\n",
            "Installing collected packages: stopit, deap, update-checker, tpot\n",
            "Successfully installed deap-1.4.1 stopit-1.1.2 tpot-0.12.2 update-checker-0.18.0\n"
          ]
        }
      ]
    },
    {
      "cell_type": "markdown",
      "source": [
        "### **Dataset:Loan** __ (Classifier)"
      ],
      "metadata": {
        "id": "7X8Av2LxY-K3"
      }
    },
    {
      "cell_type": "code",
      "source": [
        "import pandas as pd\n",
        "from tpot import TPOTClassifier\n",
        "from sklearn.model_selection import train_test_split\n",
        "from sklearn.preprocessing import LabelEncoder\n",
        "from sklearn.metrics import mean_squared_error, mean_absolute_error, r2_score\n",
        "\n",
        "# Load the dataset\n",
        "df = pd.read_csv('/content/loan_data.csv')  # Update with your actual path\n",
        "\n",
        "# Identify categorical columns\n",
        "categorical_cols = df.select_dtypes(include=['object']).columns\n",
        "\n",
        "# Create a LabelEncoder object\n",
        "label_encoder = LabelEncoder()\n",
        "\n",
        "# Encode categorical features\n",
        "for col in categorical_cols:\n",
        "    df[col] = label_encoder.fit_transform(df[col])\n",
        "\n",
        "# Separate features and target variable\n",
        "X = df.drop('not.fully.paid', axis=1)  # Features\n",
        "y = df['not.fully.paid']  # Target variable\n",
        "\n",
        "# Split the data into training and testing sets\n",
        "X_train, X_test, y_train, y_test = train_test_split(X, y, test_size=0.2, random_state=42)\n",
        "\n",
        "# Initialize and fit the TPOT classifier\n",
        "tpot = TPOTClassifier(verbosity=2, generations=5, population_size=20, random_state=42)\n",
        "tpot.fit(X_train, y_train)\n",
        "\n",
        "# Make predictions\n",
        "y_pred = tpot.predict(X_test)\n",
        "\n",
        "# Evaluate the model\n",
        "print('Model Score:', tpot.score(X_test, y_test))\n",
        "print('Mean Squared Error:', mean_squared_error(y_test, y_pred))\n",
        "print('Mean Absolute Error:', mean_absolute_error(y_test, y_pred))\n",
        "print('R² Score:', r2_score(y_test, y_pred))\n",
        "\n",
        "# Export the best model\n",
        "tpot.export('best_classifier.py')\n"
      ],
      "metadata": {
        "colab": {
          "base_uri": "https://localhost:8080/",
          "height": 295,
          "referenced_widgets": [
            "7406d58bfb8641f68ea66b5e36860e89",
            "af431957eae544a98c362ff612565c85",
            "71e17d36e2614937afbeb37e0d571d57",
            "a5a5fa18297a469a84c7bc5cd6f66556",
            "18592073f06f43bd813f10976a738f10",
            "019724d465d841769397692decae3407",
            "a538f8f5a4d64d0b9d8059948f3a661b",
            "da6eb7f550f44cc3a98616726c0aef6b",
            "3baf586a6b1f4c39b56925c3667fecb3",
            "b43c79abef48479e8dcaf332743a423c",
            "cb0b71fa96304426b0509be8b1b4dc2c"
          ]
        },
        "id": "Q6t8545AUsVf",
        "outputId": "1d719fed-c973-4204-c201-303e9b93ca20"
      },
      "execution_count": 8,
      "outputs": [
        {
          "output_type": "display_data",
          "data": {
            "text/plain": [
              "Optimization Progress:   0%|          | 0/120 [00:00<?, ?pipeline/s]"
            ],
            "application/vnd.jupyter.widget-view+json": {
              "version_major": 2,
              "version_minor": 0,
              "model_id": "7406d58bfb8641f68ea66b5e36860e89"
            }
          },
          "metadata": {}
        },
        {
          "output_type": "stream",
          "name": "stdout",
          "text": [
            "\n",
            "Generation 1 - Current best internal CV score: 0.8397286673172791\n",
            "\n",
            "Generation 2 - Current best internal CV score: 0.8403813236729292\n",
            "\n",
            "Generation 3 - Current best internal CV score: 0.8403813236729292\n",
            "\n",
            "Generation 4 - Current best internal CV score: 0.8403813236729292\n",
            "\n",
            "Generation 5 - Current best internal CV score: 0.8403813236729292\n",
            "\n",
            "Best pipeline: ExtraTreesClassifier(input_matrix, bootstrap=True, criterion=entropy, max_features=0.8, min_samples_leaf=3, min_samples_split=5, n_estimators=100)\n",
            "Model Score: 0.8413361169102297\n",
            "Mean Squared Error: 0.15866388308977036\n",
            "Mean Absolute Error: 0.15866388308977036\n",
            "R² Score: -0.18542398062500642\n"
          ]
        }
      ]
    },
    {
      "cell_type": "markdown",
      "source": [
        "### **To provide the parameter use**"
      ],
      "metadata": {
        "id": "raTkVLj3YyGY"
      }
    },
    {
      "cell_type": "code",
      "source": [
        "import numpy as np\n",
        "import pandas as pd\n",
        "from sklearn.ensemble import ExtraTreesClassifier\n",
        "from sklearn.model_selection import train_test_split\n",
        "from sklearn.metrics import mean_squared_error, mean_absolute_error, r2_score\n",
        "from sklearn.preprocessing import LabelEncoder\n",
        "\n",
        "# Load the dataset\n",
        "df = pd.read_csv('/content/loan_data.csv')  # Update with your actual path\n",
        "\n",
        "# Identify categorical columns\n",
        "categorical_cols = df.select_dtypes(include=['object']).columns\n",
        "\n",
        "# Create a LabelEncoder object\n",
        "label_encoder = LabelEncoder()\n",
        "\n",
        "# Encode categorical features\n",
        "for col in categorical_cols:\n",
        "    df[col] = label_encoder.fit_transform(df[col])\n",
        "\n",
        "# Separate features and target variable\n",
        "X = df.drop('not.fully.paid', axis=1)  # Features\n",
        "y = df['not.fully.paid']  # Target variable\n",
        "\n",
        "# Split the data into training and testing sets\n",
        "X_train, X_test, y_train, y_test = train_test_split(X, y, test_size=0.2, random_state=42)\n",
        "\n",
        "# Initialize and fit the Extra Trees Classifier\n",
        "exported_pipeline = ExtraTreesClassifier(bootstrap=True, criterion=\"entropy\",\n",
        "                                         max_features=0.8, min_samples_leaf=3,\n",
        "                                         min_samples_split=5, n_estimators=100)\n",
        "\n",
        "# Fix random state in exported estimator\n",
        "if hasattr(exported_pipeline, 'random_state'):\n",
        "    setattr(exported_pipeline, 'random_state', 42)\n",
        "\n",
        "exported_pipeline.fit(X_train, y_train)\n",
        "\n",
        "# Make predictions\n",
        "y_pred = exported_pipeline.predict(X_test)\n",
        "\n",
        "# Evaluate the model\n",
        "print('Model Score:', exported_pipeline.score(X_test, y_test))\n",
        "print('Mean Squared Error:', mean_squared_error(y_test, y_pred))\n",
        "print('Mean Absolute Error:', mean_absolute_error(y_test, y_pred))\n",
        "print('R² Score:', r2_score(y_test, y_pred))\n"
      ],
      "metadata": {
        "colab": {
          "base_uri": "https://localhost:8080/"
        },
        "id": "mOrHBV8DV5yz",
        "outputId": "9b61b2df-e882-4558-e398-e32b396e52a6"
      },
      "execution_count": 9,
      "outputs": [
        {
          "output_type": "stream",
          "name": "stdout",
          "text": [
            "Model Score: 0.8413361169102297\n",
            "Mean Squared Error: 0.15866388308977036\n",
            "Mean Absolute Error: 0.15866388308977036\n",
            "R² Score: -0.18542398062500642\n"
          ]
        }
      ]
    },
    {
      "cell_type": "markdown",
      "source": [
        "### **Dataset:Loan** __ (Regression)"
      ],
      "metadata": {
        "id": "MsWbDKkPdd3p"
      }
    },
    {
      "cell_type": "code",
      "source": [
        "import pandas as pd\n",
        "from tpot import TPOTRegressor\n",
        "from sklearn.model_selection import train_test_split\n",
        "from sklearn.metrics import mean_squared_error, mean_absolute_error, r2_score\n",
        "from sklearn.preprocessing import OneHotEncoder\n",
        "from sklearn.compose import ColumnTransformer\n",
        "from sklearn.pipeline import Pipeline\n",
        "\n",
        "# Load the dataset\n",
        "df = pd.read_csv('/content/loan_data.csv')  # Update with your actual path\n",
        "\n",
        "# Identify categorical and numerical features\n",
        "categorical_features = df.select_dtypes(include=['object']).columns.tolist()\n",
        "numerical_features = df.select_dtypes(exclude=['object']).columns.tolist()\n",
        "numerical_features.remove('int.rate')  # Assuming 'int.rate' is your target variable\n",
        "\n",
        "# Separate features and target variable\n",
        "X = df[categorical_features + numerical_features]  # Features\n",
        "y = df['int.rate']  # Target variable\n",
        "\n",
        "# Split the data into training and testing sets\n",
        "X_train, X_test, y_train, y_test = train_test_split(X, y, test_size=0.2, random_state=42)\n",
        "\n",
        "# Create a ColumnTransformer to handle categorical features\n",
        "preprocessor = ColumnTransformer(\n",
        "    transformers=[\n",
        "        ('num', 'passthrough', numerical_features),  # Pass-through for numerical features\n",
        "        ('cat', OneHotEncoder(sparse_output=False, handle_unknown='ignore'), categorical_features),  # One-hot encode categorical features\n",
        "    ])\n",
        "\n",
        "# Create a pipeline with preprocessing and TPOTRegressor\n",
        "pipeline = Pipeline([\n",
        "    ('preprocessor', preprocessor),\n",
        "    ('regressor', TPOTRegressor(verbosity=2, generations=5, population_size=20, random_state=42)),\n",
        "])\n",
        "\n",
        "# Fit the pipeline\n",
        "pipeline.fit(X_train, y_train)\n",
        "\n",
        "# Make predictions\n",
        "y_pred = pipeline.predict(X_test)\n",
        "\n",
        "# Evaluate the model\n",
        "print('Mean Squared Error:', mean_squared_error(y_test, y_pred))\n",
        "print('Mean Absolute Error:', mean_absolute_error(y_test, y_pred))\n",
        "print('R² Score:', r2_score(y_test, y_pred))\n",
        "\n",
        "# Export the best model\n",
        "pipeline.named_steps['regressor'].export('best_regressor.py')  # Access TPOTRegressor from pipeline\n"
      ],
      "metadata": {
        "colab": {
          "base_uri": "https://localhost:8080/",
          "height": 277,
          "referenced_widgets": [
            "f8b1e49fcdef446cb6be30103d38e6d1",
            "2b0678f9aeb047e99f44a14b9a70ebd4",
            "51e5035342904cca8651d240d28046a0",
            "c88324f9b7b34a1daf5fc1496fe4a186",
            "7b35fd27f17546b18bb58e57b807078e",
            "6ee2d25721e747899f0483e51b4ac9a3",
            "a888ab8529fc4128952fffe596e218fc",
            "fead4149913145089aaff1c2728dae6e",
            "46efde4af5404f3f958384e4638e9fe4",
            "d27481a1b2ed4dfcba4babb6b3c48d96",
            "4e175c18cf5045789c60189682183e69"
          ]
        },
        "id": "j8WJLGS4alXd",
        "outputId": "a2d760ab-a17f-4c77-f244-509677f96abd"
      },
      "execution_count": 18,
      "outputs": [
        {
          "data": {
            "application/vnd.jupyter.widget-view+json": {
              "model_id": "f8b1e49fcdef446cb6be30103d38e6d1",
              "version_major": 2,
              "version_minor": 0
            },
            "text/plain": [
              "Optimization Progress:   0%|          | 0/120 [00:00<?, ?pipeline/s]"
            ]
          },
          "metadata": {},
          "output_type": "display_data"
        },
        {
          "output_type": "stream",
          "name": "stdout",
          "text": [
            "\n",
            "Generation 1 - Current best internal CV score: -0.00019200486149034912\n",
            "\n",
            "Generation 2 - Current best internal CV score: -0.00019200486149034912\n",
            "\n",
            "Generation 3 - Current best internal CV score: -0.00018484152995380815\n",
            "\n",
            "Generation 4 - Current best internal CV score: -0.000182477922019804\n",
            "\n",
            "Generation 5 - Current best internal CV score: -0.0001823758798817602\n",
            "\n",
            "Best pipeline: RandomForestRegressor(input_matrix, bootstrap=True, max_features=0.7500000000000001, min_samples_leaf=2, min_samples_split=4, n_estimators=100)\n",
            "Mean Squared Error: 0.00017341754674745965\n",
            "Mean Absolute Error: 0.008933896825293997\n",
            "R² Score: 0.7480955811901726\n"
          ]
        }
      ]
    },
    {
      "cell_type": "code",
      "source": [],
      "metadata": {
        "id": "dTl9n-HFfQ9d"
      },
      "execution_count": null,
      "outputs": []
    }
  ],
  "metadata": {
    "colab": {
      "provenance": []
    },
    "kernelspec": {
      "display_name": "Python 3",
      "name": "python3"
    },
    "language_info": {
      "name": "python"
    },
    "widgets": {
      "application/vnd.jupyter.widget-state+json": {
        "0a79c278f1c5471f8ed89fb449d7b6a2": {
          "model_module": "@jupyter-widgets/controls",
          "model_name": "HBoxModel",
          "model_module_version": "1.5.0",
          "state": {
            "_dom_classes": [],
            "_model_module": "@jupyter-widgets/controls",
            "_model_module_version": "1.5.0",
            "_model_name": "HBoxModel",
            "_view_count": null,
            "_view_module": "@jupyter-widgets/controls",
            "_view_module_version": "1.5.0",
            "_view_name": "HBoxView",
            "box_style": "",
            "children": [
              "IPY_MODEL_e9b833569c304dacaf9470ecd5251a34",
              "IPY_MODEL_00e4c498793d43fa8b3d774de046c0b3",
              "IPY_MODEL_ff1fe0f6e3194a23ad56fb583f12448c"
            ],
            "layout": "IPY_MODEL_a4eb8f3b9fe64475b7620d3ec3a89662"
          }
        },
        "e9b833569c304dacaf9470ecd5251a34": {
          "model_module": "@jupyter-widgets/controls",
          "model_name": "HTMLModel",
          "model_module_version": "1.5.0",
          "state": {
            "_dom_classes": [],
            "_model_module": "@jupyter-widgets/controls",
            "_model_module_version": "1.5.0",
            "_model_name": "HTMLModel",
            "_view_count": null,
            "_view_module": "@jupyter-widgets/controls",
            "_view_module_version": "1.5.0",
            "_view_name": "HTMLView",
            "description": "",
            "description_tooltip": null,
            "layout": "IPY_MODEL_8be50bb92af7418eb7f647c1f14c7a01",
            "placeholder": "​",
            "style": "IPY_MODEL_a55399f942ad4e3e9cc73d2d0a9d6bb1",
            "value": "Optimization Progress: 100%"
          }
        },
        "00e4c498793d43fa8b3d774de046c0b3": {
          "model_module": "@jupyter-widgets/controls",
          "model_name": "FloatProgressModel",
          "model_module_version": "1.5.0",
          "state": {
            "_dom_classes": [],
            "_model_module": "@jupyter-widgets/controls",
            "_model_module_version": "1.5.0",
            "_model_name": "FloatProgressModel",
            "_view_count": null,
            "_view_module": "@jupyter-widgets/controls",
            "_view_module_version": "1.5.0",
            "_view_name": "ProgressView",
            "bar_style": "",
            "description": "",
            "description_tooltip": null,
            "layout": "IPY_MODEL_37a636a1cc8a439e87c5ed9482a169f5",
            "max": 120,
            "min": 0,
            "orientation": "horizontal",
            "style": "IPY_MODEL_2360eda887af4bbdaf2765429840fe59",
            "value": 120
          }
        },
        "ff1fe0f6e3194a23ad56fb583f12448c": {
          "model_module": "@jupyter-widgets/controls",
          "model_name": "HTMLModel",
          "model_module_version": "1.5.0",
          "state": {
            "_dom_classes": [],
            "_model_module": "@jupyter-widgets/controls",
            "_model_module_version": "1.5.0",
            "_model_name": "HTMLModel",
            "_view_count": null,
            "_view_module": "@jupyter-widgets/controls",
            "_view_module_version": "1.5.0",
            "_view_name": "HTMLView",
            "description": "",
            "description_tooltip": null,
            "layout": "IPY_MODEL_06e2a2139e854a10abb0813cf1ed6315",
            "placeholder": "​",
            "style": "IPY_MODEL_21c51b0caec144298d16009473f981f9",
            "value": " 120/120 [08:49&lt;00:00,  8.31s/pipeline]"
          }
        },
        "a4eb8f3b9fe64475b7620d3ec3a89662": {
          "model_module": "@jupyter-widgets/base",
          "model_name": "LayoutModel",
          "model_module_version": "1.2.0",
          "state": {
            "_model_module": "@jupyter-widgets/base",
            "_model_module_version": "1.2.0",
            "_model_name": "LayoutModel",
            "_view_count": null,
            "_view_module": "@jupyter-widgets/base",
            "_view_module_version": "1.2.0",
            "_view_name": "LayoutView",
            "align_content": null,
            "align_items": null,
            "align_self": null,
            "border": null,
            "bottom": null,
            "display": null,
            "flex": null,
            "flex_flow": null,
            "grid_area": null,
            "grid_auto_columns": null,
            "grid_auto_flow": null,
            "grid_auto_rows": null,
            "grid_column": null,
            "grid_gap": null,
            "grid_row": null,
            "grid_template_areas": null,
            "grid_template_columns": null,
            "grid_template_rows": null,
            "height": null,
            "justify_content": null,
            "justify_items": null,
            "left": null,
            "margin": null,
            "max_height": null,
            "max_width": null,
            "min_height": null,
            "min_width": null,
            "object_fit": null,
            "object_position": null,
            "order": null,
            "overflow": null,
            "overflow_x": null,
            "overflow_y": null,
            "padding": null,
            "right": null,
            "top": null,
            "visibility": "hidden",
            "width": null
          }
        },
        "8be50bb92af7418eb7f647c1f14c7a01": {
          "model_module": "@jupyter-widgets/base",
          "model_name": "LayoutModel",
          "model_module_version": "1.2.0",
          "state": {
            "_model_module": "@jupyter-widgets/base",
            "_model_module_version": "1.2.0",
            "_model_name": "LayoutModel",
            "_view_count": null,
            "_view_module": "@jupyter-widgets/base",
            "_view_module_version": "1.2.0",
            "_view_name": "LayoutView",
            "align_content": null,
            "align_items": null,
            "align_self": null,
            "border": null,
            "bottom": null,
            "display": null,
            "flex": null,
            "flex_flow": null,
            "grid_area": null,
            "grid_auto_columns": null,
            "grid_auto_flow": null,
            "grid_auto_rows": null,
            "grid_column": null,
            "grid_gap": null,
            "grid_row": null,
            "grid_template_areas": null,
            "grid_template_columns": null,
            "grid_template_rows": null,
            "height": null,
            "justify_content": null,
            "justify_items": null,
            "left": null,
            "margin": null,
            "max_height": null,
            "max_width": null,
            "min_height": null,
            "min_width": null,
            "object_fit": null,
            "object_position": null,
            "order": null,
            "overflow": null,
            "overflow_x": null,
            "overflow_y": null,
            "padding": null,
            "right": null,
            "top": null,
            "visibility": null,
            "width": null
          }
        },
        "a55399f942ad4e3e9cc73d2d0a9d6bb1": {
          "model_module": "@jupyter-widgets/controls",
          "model_name": "DescriptionStyleModel",
          "model_module_version": "1.5.0",
          "state": {
            "_model_module": "@jupyter-widgets/controls",
            "_model_module_version": "1.5.0",
            "_model_name": "DescriptionStyleModel",
            "_view_count": null,
            "_view_module": "@jupyter-widgets/base",
            "_view_module_version": "1.2.0",
            "_view_name": "StyleView",
            "description_width": ""
          }
        },
        "37a636a1cc8a439e87c5ed9482a169f5": {
          "model_module": "@jupyter-widgets/base",
          "model_name": "LayoutModel",
          "model_module_version": "1.2.0",
          "state": {
            "_model_module": "@jupyter-widgets/base",
            "_model_module_version": "1.2.0",
            "_model_name": "LayoutModel",
            "_view_count": null,
            "_view_module": "@jupyter-widgets/base",
            "_view_module_version": "1.2.0",
            "_view_name": "LayoutView",
            "align_content": null,
            "align_items": null,
            "align_self": null,
            "border": null,
            "bottom": null,
            "display": null,
            "flex": null,
            "flex_flow": null,
            "grid_area": null,
            "grid_auto_columns": null,
            "grid_auto_flow": null,
            "grid_auto_rows": null,
            "grid_column": null,
            "grid_gap": null,
            "grid_row": null,
            "grid_template_areas": null,
            "grid_template_columns": null,
            "grid_template_rows": null,
            "height": null,
            "justify_content": null,
            "justify_items": null,
            "left": null,
            "margin": null,
            "max_height": null,
            "max_width": null,
            "min_height": null,
            "min_width": null,
            "object_fit": null,
            "object_position": null,
            "order": null,
            "overflow": null,
            "overflow_x": null,
            "overflow_y": null,
            "padding": null,
            "right": null,
            "top": null,
            "visibility": null,
            "width": null
          }
        },
        "2360eda887af4bbdaf2765429840fe59": {
          "model_module": "@jupyter-widgets/controls",
          "model_name": "ProgressStyleModel",
          "model_module_version": "1.5.0",
          "state": {
            "_model_module": "@jupyter-widgets/controls",
            "_model_module_version": "1.5.0",
            "_model_name": "ProgressStyleModel",
            "_view_count": null,
            "_view_module": "@jupyter-widgets/base",
            "_view_module_version": "1.2.0",
            "_view_name": "StyleView",
            "bar_color": null,
            "description_width": ""
          }
        },
        "06e2a2139e854a10abb0813cf1ed6315": {
          "model_module": "@jupyter-widgets/base",
          "model_name": "LayoutModel",
          "model_module_version": "1.2.0",
          "state": {
            "_model_module": "@jupyter-widgets/base",
            "_model_module_version": "1.2.0",
            "_model_name": "LayoutModel",
            "_view_count": null,
            "_view_module": "@jupyter-widgets/base",
            "_view_module_version": "1.2.0",
            "_view_name": "LayoutView",
            "align_content": null,
            "align_items": null,
            "align_self": null,
            "border": null,
            "bottom": null,
            "display": null,
            "flex": null,
            "flex_flow": null,
            "grid_area": null,
            "grid_auto_columns": null,
            "grid_auto_flow": null,
            "grid_auto_rows": null,
            "grid_column": null,
            "grid_gap": null,
            "grid_row": null,
            "grid_template_areas": null,
            "grid_template_columns": null,
            "grid_template_rows": null,
            "height": null,
            "justify_content": null,
            "justify_items": null,
            "left": null,
            "margin": null,
            "max_height": null,
            "max_width": null,
            "min_height": null,
            "min_width": null,
            "object_fit": null,
            "object_position": null,
            "order": null,
            "overflow": null,
            "overflow_x": null,
            "overflow_y": null,
            "padding": null,
            "right": null,
            "top": null,
            "visibility": null,
            "width": null
          }
        },
        "21c51b0caec144298d16009473f981f9": {
          "model_module": "@jupyter-widgets/controls",
          "model_name": "DescriptionStyleModel",
          "model_module_version": "1.5.0",
          "state": {
            "_model_module": "@jupyter-widgets/controls",
            "_model_module_version": "1.5.0",
            "_model_name": "DescriptionStyleModel",
            "_view_count": null,
            "_view_module": "@jupyter-widgets/base",
            "_view_module_version": "1.2.0",
            "_view_name": "StyleView",
            "description_width": ""
          }
        },
        "d35ad1e33441430eb9bea92c8d636282": {
          "model_module": "@jupyter-widgets/controls",
          "model_name": "HBoxModel",
          "model_module_version": "1.5.0",
          "state": {
            "_dom_classes": [],
            "_model_module": "@jupyter-widgets/controls",
            "_model_module_version": "1.5.0",
            "_model_name": "HBoxModel",
            "_view_count": null,
            "_view_module": "@jupyter-widgets/controls",
            "_view_module_version": "1.5.0",
            "_view_name": "HBoxView",
            "box_style": "",
            "children": [
              "IPY_MODEL_5ffd3457906943909cd477ed8956d30d",
              "IPY_MODEL_90c98b6c34d146068da4d9cd02ffb7e1",
              "IPY_MODEL_bd2d790d586e407fb83e4a5d924eb4c0"
            ],
            "layout": "IPY_MODEL_ab9a3bce04bf490bb465f90f4d119654"
          }
        },
        "5ffd3457906943909cd477ed8956d30d": {
          "model_module": "@jupyter-widgets/controls",
          "model_name": "HTMLModel",
          "model_module_version": "1.5.0",
          "state": {
            "_dom_classes": [],
            "_model_module": "@jupyter-widgets/controls",
            "_model_module_version": "1.5.0",
            "_model_name": "HTMLModel",
            "_view_count": null,
            "_view_module": "@jupyter-widgets/controls",
            "_view_module_version": "1.5.0",
            "_view_name": "HTMLView",
            "description": "",
            "description_tooltip": null,
            "layout": "IPY_MODEL_9ffb673d62d641ceab1c4ecb3371278b",
            "placeholder": "​",
            "style": "IPY_MODEL_65c9e1e9154c41128be68afb973bccdd",
            "value": "Optimization Progress: 100%"
          }
        },
        "90c98b6c34d146068da4d9cd02ffb7e1": {
          "model_module": "@jupyter-widgets/controls",
          "model_name": "FloatProgressModel",
          "model_module_version": "1.5.0",
          "state": {
            "_dom_classes": [],
            "_model_module": "@jupyter-widgets/controls",
            "_model_module_version": "1.5.0",
            "_model_name": "FloatProgressModel",
            "_view_count": null,
            "_view_module": "@jupyter-widgets/controls",
            "_view_module_version": "1.5.0",
            "_view_name": "ProgressView",
            "bar_style": "",
            "description": "",
            "description_tooltip": null,
            "layout": "IPY_MODEL_7d8ebbecc2b441d7b9c5344529955cc5",
            "max": 120,
            "min": 0,
            "orientation": "horizontal",
            "style": "IPY_MODEL_06e101a13688439daf78c65011e705ac",
            "value": 120
          }
        },
        "bd2d790d586e407fb83e4a5d924eb4c0": {
          "model_module": "@jupyter-widgets/controls",
          "model_name": "HTMLModel",
          "model_module_version": "1.5.0",
          "state": {
            "_dom_classes": [],
            "_model_module": "@jupyter-widgets/controls",
            "_model_module_version": "1.5.0",
            "_model_name": "HTMLModel",
            "_view_count": null,
            "_view_module": "@jupyter-widgets/controls",
            "_view_module_version": "1.5.0",
            "_view_name": "HTMLView",
            "description": "",
            "description_tooltip": null,
            "layout": "IPY_MODEL_bc39f7ad2f014dbdbea5932a267cbd51",
            "placeholder": "​",
            "style": "IPY_MODEL_7a8d88ba11464b238794e0b297a16379",
            "value": " 120/120 [01:58&lt;00:00,  1.92pipeline/s]"
          }
        },
        "ab9a3bce04bf490bb465f90f4d119654": {
          "model_module": "@jupyter-widgets/base",
          "model_name": "LayoutModel",
          "model_module_version": "1.2.0",
          "state": {
            "_model_module": "@jupyter-widgets/base",
            "_model_module_version": "1.2.0",
            "_model_name": "LayoutModel",
            "_view_count": null,
            "_view_module": "@jupyter-widgets/base",
            "_view_module_version": "1.2.0",
            "_view_name": "LayoutView",
            "align_content": null,
            "align_items": null,
            "align_self": null,
            "border": null,
            "bottom": null,
            "display": null,
            "flex": null,
            "flex_flow": null,
            "grid_area": null,
            "grid_auto_columns": null,
            "grid_auto_flow": null,
            "grid_auto_rows": null,
            "grid_column": null,
            "grid_gap": null,
            "grid_row": null,
            "grid_template_areas": null,
            "grid_template_columns": null,
            "grid_template_rows": null,
            "height": null,
            "justify_content": null,
            "justify_items": null,
            "left": null,
            "margin": null,
            "max_height": null,
            "max_width": null,
            "min_height": null,
            "min_width": null,
            "object_fit": null,
            "object_position": null,
            "order": null,
            "overflow": null,
            "overflow_x": null,
            "overflow_y": null,
            "padding": null,
            "right": null,
            "top": null,
            "visibility": "hidden",
            "width": null
          }
        },
        "9ffb673d62d641ceab1c4ecb3371278b": {
          "model_module": "@jupyter-widgets/base",
          "model_name": "LayoutModel",
          "model_module_version": "1.2.0",
          "state": {
            "_model_module": "@jupyter-widgets/base",
            "_model_module_version": "1.2.0",
            "_model_name": "LayoutModel",
            "_view_count": null,
            "_view_module": "@jupyter-widgets/base",
            "_view_module_version": "1.2.0",
            "_view_name": "LayoutView",
            "align_content": null,
            "align_items": null,
            "align_self": null,
            "border": null,
            "bottom": null,
            "display": null,
            "flex": null,
            "flex_flow": null,
            "grid_area": null,
            "grid_auto_columns": null,
            "grid_auto_flow": null,
            "grid_auto_rows": null,
            "grid_column": null,
            "grid_gap": null,
            "grid_row": null,
            "grid_template_areas": null,
            "grid_template_columns": null,
            "grid_template_rows": null,
            "height": null,
            "justify_content": null,
            "justify_items": null,
            "left": null,
            "margin": null,
            "max_height": null,
            "max_width": null,
            "min_height": null,
            "min_width": null,
            "object_fit": null,
            "object_position": null,
            "order": null,
            "overflow": null,
            "overflow_x": null,
            "overflow_y": null,
            "padding": null,
            "right": null,
            "top": null,
            "visibility": null,
            "width": null
          }
        },
        "65c9e1e9154c41128be68afb973bccdd": {
          "model_module": "@jupyter-widgets/controls",
          "model_name": "DescriptionStyleModel",
          "model_module_version": "1.5.0",
          "state": {
            "_model_module": "@jupyter-widgets/controls",
            "_model_module_version": "1.5.0",
            "_model_name": "DescriptionStyleModel",
            "_view_count": null,
            "_view_module": "@jupyter-widgets/base",
            "_view_module_version": "1.2.0",
            "_view_name": "StyleView",
            "description_width": ""
          }
        },
        "7d8ebbecc2b441d7b9c5344529955cc5": {
          "model_module": "@jupyter-widgets/base",
          "model_name": "LayoutModel",
          "model_module_version": "1.2.0",
          "state": {
            "_model_module": "@jupyter-widgets/base",
            "_model_module_version": "1.2.0",
            "_model_name": "LayoutModel",
            "_view_count": null,
            "_view_module": "@jupyter-widgets/base",
            "_view_module_version": "1.2.0",
            "_view_name": "LayoutView",
            "align_content": null,
            "align_items": null,
            "align_self": null,
            "border": null,
            "bottom": null,
            "display": null,
            "flex": null,
            "flex_flow": null,
            "grid_area": null,
            "grid_auto_columns": null,
            "grid_auto_flow": null,
            "grid_auto_rows": null,
            "grid_column": null,
            "grid_gap": null,
            "grid_row": null,
            "grid_template_areas": null,
            "grid_template_columns": null,
            "grid_template_rows": null,
            "height": null,
            "justify_content": null,
            "justify_items": null,
            "left": null,
            "margin": null,
            "max_height": null,
            "max_width": null,
            "min_height": null,
            "min_width": null,
            "object_fit": null,
            "object_position": null,
            "order": null,
            "overflow": null,
            "overflow_x": null,
            "overflow_y": null,
            "padding": null,
            "right": null,
            "top": null,
            "visibility": null,
            "width": null
          }
        },
        "06e101a13688439daf78c65011e705ac": {
          "model_module": "@jupyter-widgets/controls",
          "model_name": "ProgressStyleModel",
          "model_module_version": "1.5.0",
          "state": {
            "_model_module": "@jupyter-widgets/controls",
            "_model_module_version": "1.5.0",
            "_model_name": "ProgressStyleModel",
            "_view_count": null,
            "_view_module": "@jupyter-widgets/base",
            "_view_module_version": "1.2.0",
            "_view_name": "StyleView",
            "bar_color": null,
            "description_width": ""
          }
        },
        "bc39f7ad2f014dbdbea5932a267cbd51": {
          "model_module": "@jupyter-widgets/base",
          "model_name": "LayoutModel",
          "model_module_version": "1.2.0",
          "state": {
            "_model_module": "@jupyter-widgets/base",
            "_model_module_version": "1.2.0",
            "_model_name": "LayoutModel",
            "_view_count": null,
            "_view_module": "@jupyter-widgets/base",
            "_view_module_version": "1.2.0",
            "_view_name": "LayoutView",
            "align_content": null,
            "align_items": null,
            "align_self": null,
            "border": null,
            "bottom": null,
            "display": null,
            "flex": null,
            "flex_flow": null,
            "grid_area": null,
            "grid_auto_columns": null,
            "grid_auto_flow": null,
            "grid_auto_rows": null,
            "grid_column": null,
            "grid_gap": null,
            "grid_row": null,
            "grid_template_areas": null,
            "grid_template_columns": null,
            "grid_template_rows": null,
            "height": null,
            "justify_content": null,
            "justify_items": null,
            "left": null,
            "margin": null,
            "max_height": null,
            "max_width": null,
            "min_height": null,
            "min_width": null,
            "object_fit": null,
            "object_position": null,
            "order": null,
            "overflow": null,
            "overflow_x": null,
            "overflow_y": null,
            "padding": null,
            "right": null,
            "top": null,
            "visibility": null,
            "width": null
          }
        },
        "7a8d88ba11464b238794e0b297a16379": {
          "model_module": "@jupyter-widgets/controls",
          "model_name": "DescriptionStyleModel",
          "model_module_version": "1.5.0",
          "state": {
            "_model_module": "@jupyter-widgets/controls",
            "_model_module_version": "1.5.0",
            "_model_name": "DescriptionStyleModel",
            "_view_count": null,
            "_view_module": "@jupyter-widgets/base",
            "_view_module_version": "1.2.0",
            "_view_name": "StyleView",
            "description_width": ""
          }
        },
        "7406d58bfb8641f68ea66b5e36860e89": {
          "model_module": "@jupyter-widgets/controls",
          "model_name": "HBoxModel",
          "model_module_version": "1.5.0",
          "state": {
            "_dom_classes": [],
            "_model_module": "@jupyter-widgets/controls",
            "_model_module_version": "1.5.0",
            "_model_name": "HBoxModel",
            "_view_count": null,
            "_view_module": "@jupyter-widgets/controls",
            "_view_module_version": "1.5.0",
            "_view_name": "HBoxView",
            "box_style": "",
            "children": [
              "IPY_MODEL_af431957eae544a98c362ff612565c85",
              "IPY_MODEL_71e17d36e2614937afbeb37e0d571d57",
              "IPY_MODEL_a5a5fa18297a469a84c7bc5cd6f66556"
            ],
            "layout": "IPY_MODEL_18592073f06f43bd813f10976a738f10"
          }
        },
        "af431957eae544a98c362ff612565c85": {
          "model_module": "@jupyter-widgets/controls",
          "model_name": "HTMLModel",
          "model_module_version": "1.5.0",
          "state": {
            "_dom_classes": [],
            "_model_module": "@jupyter-widgets/controls",
            "_model_module_version": "1.5.0",
            "_model_name": "HTMLModel",
            "_view_count": null,
            "_view_module": "@jupyter-widgets/controls",
            "_view_module_version": "1.5.0",
            "_view_name": "HTMLView",
            "description": "",
            "description_tooltip": null,
            "layout": "IPY_MODEL_019724d465d841769397692decae3407",
            "placeholder": "​",
            "style": "IPY_MODEL_a538f8f5a4d64d0b9d8059948f3a661b",
            "value": "Optimization Progress: 100%"
          }
        },
        "71e17d36e2614937afbeb37e0d571d57": {
          "model_module": "@jupyter-widgets/controls",
          "model_name": "FloatProgressModel",
          "model_module_version": "1.5.0",
          "state": {
            "_dom_classes": [],
            "_model_module": "@jupyter-widgets/controls",
            "_model_module_version": "1.5.0",
            "_model_name": "FloatProgressModel",
            "_view_count": null,
            "_view_module": "@jupyter-widgets/controls",
            "_view_module_version": "1.5.0",
            "_view_name": "ProgressView",
            "bar_style": "",
            "description": "",
            "description_tooltip": null,
            "layout": "IPY_MODEL_da6eb7f550f44cc3a98616726c0aef6b",
            "max": 120,
            "min": 0,
            "orientation": "horizontal",
            "style": "IPY_MODEL_3baf586a6b1f4c39b56925c3667fecb3",
            "value": 120
          }
        },
        "a5a5fa18297a469a84c7bc5cd6f66556": {
          "model_module": "@jupyter-widgets/controls",
          "model_name": "HTMLModel",
          "model_module_version": "1.5.0",
          "state": {
            "_dom_classes": [],
            "_model_module": "@jupyter-widgets/controls",
            "_model_module_version": "1.5.0",
            "_model_name": "HTMLModel",
            "_view_count": null,
            "_view_module": "@jupyter-widgets/controls",
            "_view_module_version": "1.5.0",
            "_view_name": "HTMLView",
            "description": "",
            "description_tooltip": null,
            "layout": "IPY_MODEL_b43c79abef48479e8dcaf332743a423c",
            "placeholder": "​",
            "style": "IPY_MODEL_cb0b71fa96304426b0509be8b1b4dc2c",
            "value": " 120/120 [08:13&lt;00:00,  9.49s/pipeline]"
          }
        },
        "18592073f06f43bd813f10976a738f10": {
          "model_module": "@jupyter-widgets/base",
          "model_name": "LayoutModel",
          "model_module_version": "1.2.0",
          "state": {
            "_model_module": "@jupyter-widgets/base",
            "_model_module_version": "1.2.0",
            "_model_name": "LayoutModel",
            "_view_count": null,
            "_view_module": "@jupyter-widgets/base",
            "_view_module_version": "1.2.0",
            "_view_name": "LayoutView",
            "align_content": null,
            "align_items": null,
            "align_self": null,
            "border": null,
            "bottom": null,
            "display": null,
            "flex": null,
            "flex_flow": null,
            "grid_area": null,
            "grid_auto_columns": null,
            "grid_auto_flow": null,
            "grid_auto_rows": null,
            "grid_column": null,
            "grid_gap": null,
            "grid_row": null,
            "grid_template_areas": null,
            "grid_template_columns": null,
            "grid_template_rows": null,
            "height": null,
            "justify_content": null,
            "justify_items": null,
            "left": null,
            "margin": null,
            "max_height": null,
            "max_width": null,
            "min_height": null,
            "min_width": null,
            "object_fit": null,
            "object_position": null,
            "order": null,
            "overflow": null,
            "overflow_x": null,
            "overflow_y": null,
            "padding": null,
            "right": null,
            "top": null,
            "visibility": "hidden",
            "width": null
          }
        },
        "019724d465d841769397692decae3407": {
          "model_module": "@jupyter-widgets/base",
          "model_name": "LayoutModel",
          "model_module_version": "1.2.0",
          "state": {
            "_model_module": "@jupyter-widgets/base",
            "_model_module_version": "1.2.0",
            "_model_name": "LayoutModel",
            "_view_count": null,
            "_view_module": "@jupyter-widgets/base",
            "_view_module_version": "1.2.0",
            "_view_name": "LayoutView",
            "align_content": null,
            "align_items": null,
            "align_self": null,
            "border": null,
            "bottom": null,
            "display": null,
            "flex": null,
            "flex_flow": null,
            "grid_area": null,
            "grid_auto_columns": null,
            "grid_auto_flow": null,
            "grid_auto_rows": null,
            "grid_column": null,
            "grid_gap": null,
            "grid_row": null,
            "grid_template_areas": null,
            "grid_template_columns": null,
            "grid_template_rows": null,
            "height": null,
            "justify_content": null,
            "justify_items": null,
            "left": null,
            "margin": null,
            "max_height": null,
            "max_width": null,
            "min_height": null,
            "min_width": null,
            "object_fit": null,
            "object_position": null,
            "order": null,
            "overflow": null,
            "overflow_x": null,
            "overflow_y": null,
            "padding": null,
            "right": null,
            "top": null,
            "visibility": null,
            "width": null
          }
        },
        "a538f8f5a4d64d0b9d8059948f3a661b": {
          "model_module": "@jupyter-widgets/controls",
          "model_name": "DescriptionStyleModel",
          "model_module_version": "1.5.0",
          "state": {
            "_model_module": "@jupyter-widgets/controls",
            "_model_module_version": "1.5.0",
            "_model_name": "DescriptionStyleModel",
            "_view_count": null,
            "_view_module": "@jupyter-widgets/base",
            "_view_module_version": "1.2.0",
            "_view_name": "StyleView",
            "description_width": ""
          }
        },
        "da6eb7f550f44cc3a98616726c0aef6b": {
          "model_module": "@jupyter-widgets/base",
          "model_name": "LayoutModel",
          "model_module_version": "1.2.0",
          "state": {
            "_model_module": "@jupyter-widgets/base",
            "_model_module_version": "1.2.0",
            "_model_name": "LayoutModel",
            "_view_count": null,
            "_view_module": "@jupyter-widgets/base",
            "_view_module_version": "1.2.0",
            "_view_name": "LayoutView",
            "align_content": null,
            "align_items": null,
            "align_self": null,
            "border": null,
            "bottom": null,
            "display": null,
            "flex": null,
            "flex_flow": null,
            "grid_area": null,
            "grid_auto_columns": null,
            "grid_auto_flow": null,
            "grid_auto_rows": null,
            "grid_column": null,
            "grid_gap": null,
            "grid_row": null,
            "grid_template_areas": null,
            "grid_template_columns": null,
            "grid_template_rows": null,
            "height": null,
            "justify_content": null,
            "justify_items": null,
            "left": null,
            "margin": null,
            "max_height": null,
            "max_width": null,
            "min_height": null,
            "min_width": null,
            "object_fit": null,
            "object_position": null,
            "order": null,
            "overflow": null,
            "overflow_x": null,
            "overflow_y": null,
            "padding": null,
            "right": null,
            "top": null,
            "visibility": null,
            "width": null
          }
        },
        "3baf586a6b1f4c39b56925c3667fecb3": {
          "model_module": "@jupyter-widgets/controls",
          "model_name": "ProgressStyleModel",
          "model_module_version": "1.5.0",
          "state": {
            "_model_module": "@jupyter-widgets/controls",
            "_model_module_version": "1.5.0",
            "_model_name": "ProgressStyleModel",
            "_view_count": null,
            "_view_module": "@jupyter-widgets/base",
            "_view_module_version": "1.2.0",
            "_view_name": "StyleView",
            "bar_color": null,
            "description_width": ""
          }
        },
        "b43c79abef48479e8dcaf332743a423c": {
          "model_module": "@jupyter-widgets/base",
          "model_name": "LayoutModel",
          "model_module_version": "1.2.0",
          "state": {
            "_model_module": "@jupyter-widgets/base",
            "_model_module_version": "1.2.0",
            "_model_name": "LayoutModel",
            "_view_count": null,
            "_view_module": "@jupyter-widgets/base",
            "_view_module_version": "1.2.0",
            "_view_name": "LayoutView",
            "align_content": null,
            "align_items": null,
            "align_self": null,
            "border": null,
            "bottom": null,
            "display": null,
            "flex": null,
            "flex_flow": null,
            "grid_area": null,
            "grid_auto_columns": null,
            "grid_auto_flow": null,
            "grid_auto_rows": null,
            "grid_column": null,
            "grid_gap": null,
            "grid_row": null,
            "grid_template_areas": null,
            "grid_template_columns": null,
            "grid_template_rows": null,
            "height": null,
            "justify_content": null,
            "justify_items": null,
            "left": null,
            "margin": null,
            "max_height": null,
            "max_width": null,
            "min_height": null,
            "min_width": null,
            "object_fit": null,
            "object_position": null,
            "order": null,
            "overflow": null,
            "overflow_x": null,
            "overflow_y": null,
            "padding": null,
            "right": null,
            "top": null,
            "visibility": null,
            "width": null
          }
        },
        "cb0b71fa96304426b0509be8b1b4dc2c": {
          "model_module": "@jupyter-widgets/controls",
          "model_name": "DescriptionStyleModel",
          "model_module_version": "1.5.0",
          "state": {
            "_model_module": "@jupyter-widgets/controls",
            "_model_module_version": "1.5.0",
            "_model_name": "DescriptionStyleModel",
            "_view_count": null,
            "_view_module": "@jupyter-widgets/base",
            "_view_module_version": "1.2.0",
            "_view_name": "StyleView",
            "description_width": ""
          }
        },
        "f8b1e49fcdef446cb6be30103d38e6d1": {
          "model_module": "@jupyter-widgets/controls",
          "model_name": "HBoxModel",
          "model_module_version": "1.5.0",
          "state": {
            "_dom_classes": [],
            "_model_module": "@jupyter-widgets/controls",
            "_model_module_version": "1.5.0",
            "_model_name": "HBoxModel",
            "_view_count": null,
            "_view_module": "@jupyter-widgets/controls",
            "_view_module_version": "1.5.0",
            "_view_name": "HBoxView",
            "box_style": "",
            "children": [
              "IPY_MODEL_2b0678f9aeb047e99f44a14b9a70ebd4",
              "IPY_MODEL_51e5035342904cca8651d240d28046a0",
              "IPY_MODEL_c88324f9b7b34a1daf5fc1496fe4a186"
            ],
            "layout": "IPY_MODEL_7b35fd27f17546b18bb58e57b807078e"
          }
        },
        "2b0678f9aeb047e99f44a14b9a70ebd4": {
          "model_module": "@jupyter-widgets/controls",
          "model_name": "HTMLModel",
          "model_module_version": "1.5.0",
          "state": {
            "_dom_classes": [],
            "_model_module": "@jupyter-widgets/controls",
            "_model_module_version": "1.5.0",
            "_model_name": "HTMLModel",
            "_view_count": null,
            "_view_module": "@jupyter-widgets/controls",
            "_view_module_version": "1.5.0",
            "_view_name": "HTMLView",
            "description": "",
            "description_tooltip": null,
            "layout": "IPY_MODEL_6ee2d25721e747899f0483e51b4ac9a3",
            "placeholder": "​",
            "style": "IPY_MODEL_a888ab8529fc4128952fffe596e218fc",
            "value": "Optimization Progress: 100%"
          }
        },
        "51e5035342904cca8651d240d28046a0": {
          "model_module": "@jupyter-widgets/controls",
          "model_name": "FloatProgressModel",
          "model_module_version": "1.5.0",
          "state": {
            "_dom_classes": [],
            "_model_module": "@jupyter-widgets/controls",
            "_model_module_version": "1.5.0",
            "_model_name": "FloatProgressModel",
            "_view_count": null,
            "_view_module": "@jupyter-widgets/controls",
            "_view_module_version": "1.5.0",
            "_view_name": "ProgressView",
            "bar_style": "",
            "description": "",
            "description_tooltip": null,
            "layout": "IPY_MODEL_fead4149913145089aaff1c2728dae6e",
            "max": 120,
            "min": 0,
            "orientation": "horizontal",
            "style": "IPY_MODEL_46efde4af5404f3f958384e4638e9fe4",
            "value": 120
          }
        },
        "c88324f9b7b34a1daf5fc1496fe4a186": {
          "model_module": "@jupyter-widgets/controls",
          "model_name": "HTMLModel",
          "model_module_version": "1.5.0",
          "state": {
            "_dom_classes": [],
            "_model_module": "@jupyter-widgets/controls",
            "_model_module_version": "1.5.0",
            "_model_name": "HTMLModel",
            "_view_count": null,
            "_view_module": "@jupyter-widgets/controls",
            "_view_module_version": "1.5.0",
            "_view_name": "HTMLView",
            "description": "",
            "description_tooltip": null,
            "layout": "IPY_MODEL_d27481a1b2ed4dfcba4babb6b3c48d96",
            "placeholder": "​",
            "style": "IPY_MODEL_4e175c18cf5045789c60189682183e69",
            "value": " 120/120 [16:56&lt;00:00, 18.32s/pipeline]"
          }
        },
        "7b35fd27f17546b18bb58e57b807078e": {
          "model_module": "@jupyter-widgets/base",
          "model_name": "LayoutModel",
          "model_module_version": "1.2.0",
          "state": {
            "_model_module": "@jupyter-widgets/base",
            "_model_module_version": "1.2.0",
            "_model_name": "LayoutModel",
            "_view_count": null,
            "_view_module": "@jupyter-widgets/base",
            "_view_module_version": "1.2.0",
            "_view_name": "LayoutView",
            "align_content": null,
            "align_items": null,
            "align_self": null,
            "border": null,
            "bottom": null,
            "display": null,
            "flex": null,
            "flex_flow": null,
            "grid_area": null,
            "grid_auto_columns": null,
            "grid_auto_flow": null,
            "grid_auto_rows": null,
            "grid_column": null,
            "grid_gap": null,
            "grid_row": null,
            "grid_template_areas": null,
            "grid_template_columns": null,
            "grid_template_rows": null,
            "height": null,
            "justify_content": null,
            "justify_items": null,
            "left": null,
            "margin": null,
            "max_height": null,
            "max_width": null,
            "min_height": null,
            "min_width": null,
            "object_fit": null,
            "object_position": null,
            "order": null,
            "overflow": null,
            "overflow_x": null,
            "overflow_y": null,
            "padding": null,
            "right": null,
            "top": null,
            "visibility": "hidden",
            "width": null
          }
        },
        "6ee2d25721e747899f0483e51b4ac9a3": {
          "model_module": "@jupyter-widgets/base",
          "model_name": "LayoutModel",
          "model_module_version": "1.2.0",
          "state": {
            "_model_module": "@jupyter-widgets/base",
            "_model_module_version": "1.2.0",
            "_model_name": "LayoutModel",
            "_view_count": null,
            "_view_module": "@jupyter-widgets/base",
            "_view_module_version": "1.2.0",
            "_view_name": "LayoutView",
            "align_content": null,
            "align_items": null,
            "align_self": null,
            "border": null,
            "bottom": null,
            "display": null,
            "flex": null,
            "flex_flow": null,
            "grid_area": null,
            "grid_auto_columns": null,
            "grid_auto_flow": null,
            "grid_auto_rows": null,
            "grid_column": null,
            "grid_gap": null,
            "grid_row": null,
            "grid_template_areas": null,
            "grid_template_columns": null,
            "grid_template_rows": null,
            "height": null,
            "justify_content": null,
            "justify_items": null,
            "left": null,
            "margin": null,
            "max_height": null,
            "max_width": null,
            "min_height": null,
            "min_width": null,
            "object_fit": null,
            "object_position": null,
            "order": null,
            "overflow": null,
            "overflow_x": null,
            "overflow_y": null,
            "padding": null,
            "right": null,
            "top": null,
            "visibility": null,
            "width": null
          }
        },
        "a888ab8529fc4128952fffe596e218fc": {
          "model_module": "@jupyter-widgets/controls",
          "model_name": "DescriptionStyleModel",
          "model_module_version": "1.5.0",
          "state": {
            "_model_module": "@jupyter-widgets/controls",
            "_model_module_version": "1.5.0",
            "_model_name": "DescriptionStyleModel",
            "_view_count": null,
            "_view_module": "@jupyter-widgets/base",
            "_view_module_version": "1.2.0",
            "_view_name": "StyleView",
            "description_width": ""
          }
        },
        "fead4149913145089aaff1c2728dae6e": {
          "model_module": "@jupyter-widgets/base",
          "model_name": "LayoutModel",
          "model_module_version": "1.2.0",
          "state": {
            "_model_module": "@jupyter-widgets/base",
            "_model_module_version": "1.2.0",
            "_model_name": "LayoutModel",
            "_view_count": null,
            "_view_module": "@jupyter-widgets/base",
            "_view_module_version": "1.2.0",
            "_view_name": "LayoutView",
            "align_content": null,
            "align_items": null,
            "align_self": null,
            "border": null,
            "bottom": null,
            "display": null,
            "flex": null,
            "flex_flow": null,
            "grid_area": null,
            "grid_auto_columns": null,
            "grid_auto_flow": null,
            "grid_auto_rows": null,
            "grid_column": null,
            "grid_gap": null,
            "grid_row": null,
            "grid_template_areas": null,
            "grid_template_columns": null,
            "grid_template_rows": null,
            "height": null,
            "justify_content": null,
            "justify_items": null,
            "left": null,
            "margin": null,
            "max_height": null,
            "max_width": null,
            "min_height": null,
            "min_width": null,
            "object_fit": null,
            "object_position": null,
            "order": null,
            "overflow": null,
            "overflow_x": null,
            "overflow_y": null,
            "padding": null,
            "right": null,
            "top": null,
            "visibility": null,
            "width": null
          }
        },
        "46efde4af5404f3f958384e4638e9fe4": {
          "model_module": "@jupyter-widgets/controls",
          "model_name": "ProgressStyleModel",
          "model_module_version": "1.5.0",
          "state": {
            "_model_module": "@jupyter-widgets/controls",
            "_model_module_version": "1.5.0",
            "_model_name": "ProgressStyleModel",
            "_view_count": null,
            "_view_module": "@jupyter-widgets/base",
            "_view_module_version": "1.2.0",
            "_view_name": "StyleView",
            "bar_color": null,
            "description_width": ""
          }
        },
        "d27481a1b2ed4dfcba4babb6b3c48d96": {
          "model_module": "@jupyter-widgets/base",
          "model_name": "LayoutModel",
          "model_module_version": "1.2.0",
          "state": {
            "_model_module": "@jupyter-widgets/base",
            "_model_module_version": "1.2.0",
            "_model_name": "LayoutModel",
            "_view_count": null,
            "_view_module": "@jupyter-widgets/base",
            "_view_module_version": "1.2.0",
            "_view_name": "LayoutView",
            "align_content": null,
            "align_items": null,
            "align_self": null,
            "border": null,
            "bottom": null,
            "display": null,
            "flex": null,
            "flex_flow": null,
            "grid_area": null,
            "grid_auto_columns": null,
            "grid_auto_flow": null,
            "grid_auto_rows": null,
            "grid_column": null,
            "grid_gap": null,
            "grid_row": null,
            "grid_template_areas": null,
            "grid_template_columns": null,
            "grid_template_rows": null,
            "height": null,
            "justify_content": null,
            "justify_items": null,
            "left": null,
            "margin": null,
            "max_height": null,
            "max_width": null,
            "min_height": null,
            "min_width": null,
            "object_fit": null,
            "object_position": null,
            "order": null,
            "overflow": null,
            "overflow_x": null,
            "overflow_y": null,
            "padding": null,
            "right": null,
            "top": null,
            "visibility": null,
            "width": null
          }
        },
        "4e175c18cf5045789c60189682183e69": {
          "model_module": "@jupyter-widgets/controls",
          "model_name": "DescriptionStyleModel",
          "model_module_version": "1.5.0",
          "state": {
            "_model_module": "@jupyter-widgets/controls",
            "_model_module_version": "1.5.0",
            "_model_name": "DescriptionStyleModel",
            "_view_count": null,
            "_view_module": "@jupyter-widgets/base",
            "_view_module_version": "1.2.0",
            "_view_name": "StyleView",
            "description_width": ""
          }
        }
      }
    }
  },
  "nbformat": 4,
  "nbformat_minor": 0
}